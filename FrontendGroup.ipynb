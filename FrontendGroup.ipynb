{
 "cells": [
  {
   "cell_type": "code",
   "execution_count": 13,
   "id": "4ac6e3f1",
   "metadata": {},
   "outputs": [],
   "source": [
    "import pandas as pd"
   ]
  },
  {
   "cell_type": "code",
   "execution_count": 31,
   "id": "35de8a7e",
   "metadata": {},
   "outputs": [],
   "source": [
    "file_name = \"..\\File\\FrontendFile\\storm-frontend-20200307.txt\"\n",
    "# file_name = \".\\storm-frontend-20200307-mask.txt\"\n",
    "\n",
    "frontend = pd.read_csv(file_name, nrows = 1e4)"
   ]
  },
  {
   "cell_type": "code",
   "execution_count": 32,
   "id": "2b28891b",
   "metadata": {
    "scrolled": false
   },
   "outputs": [],
   "source": [
    "frontend = frontend.sort_values(by = ['id'])"
   ]
  },
  {
   "cell_type": "code",
   "execution_count": 33,
   "id": "69aa6bd7",
   "metadata": {},
   "outputs": [],
   "source": [
    "frontend = frontend.set_index('id')\n",
    "# frontend = frontend.set_index(['id', 'PID'])"
   ]
  },
  {
   "cell_type": "code",
   "execution_count": 34,
   "id": "e0aa80ee",
   "metadata": {},
   "outputs": [
    {
     "data": {
      "text/html": [
       "<div>\n",
       "<style scoped>\n",
       "    .dataframe tbody tr th:only-of-type {\n",
       "        vertical-align: middle;\n",
       "    }\n",
       "\n",
       "    .dataframe tbody tr th {\n",
       "        vertical-align: top;\n",
       "    }\n",
       "\n",
       "    .dataframe thead th {\n",
       "        text-align: right;\n",
       "    }\n",
       "</style>\n",
       "<table border=\"1\" class=\"dataframe\">\n",
       "  <thead>\n",
       "    <tr style=\"text-align: right;\">\n",
       "      <th></th>\n",
       "      <th>date</th>\n",
       "      <th>time</th>\n",
       "      <th>PID</th>\n",
       "      <th>Level</th>\n",
       "      <th>message</th>\n",
       "    </tr>\n",
       "    <tr>\n",
       "      <th>id</th>\n",
       "      <th></th>\n",
       "      <th></th>\n",
       "      <th></th>\n",
       "      <th></th>\n",
       "      <th></th>\n",
       "    </tr>\n",
       "  </thead>\n",
       "  <tbody>\n",
       "    <tr>\n",
       "      <th>0021ded1-6a54-4a37-a828-8f1f238951df</th>\n",
       "      <td>03/06</td>\n",
       "      <td>03:20:06.225</td>\n",
       "      <td>Thread 18</td>\n",
       "      <td>INFO</td>\n",
       "      <td>process_request : Connection from ::ffff:131.1...</td>\n",
       "    </tr>\n",
       "    <tr>\n",
       "      <th>0021ded1-6a54-4a37-a828-8f1f238951df</th>\n",
       "      <td>03/06</td>\n",
       "      <td>03:20:06.283</td>\n",
       "      <td>Thread 18</td>\n",
       "      <td>INFO</td>\n",
       "      <td>ns1__srmLs : Request: Ls. IP: ::ffff:131.154.1...</td>\n",
       "    </tr>\n",
       "    <tr>\n",
       "      <th>0021ded1-6a54-4a37-a828-8f1f238951df</th>\n",
       "      <td>03/06</td>\n",
       "      <td>03:20:06.301</td>\n",
       "      <td>Thread 18</td>\n",
       "      <td>INFO</td>\n",
       "      <td>Result for request 'Ls' is 'SRM_SUCCESS'</td>\n",
       "    </tr>\n",
       "    <tr>\n",
       "      <th>002ea5f2-99ad-434d-a810-5cc729ae926a</th>\n",
       "      <td>03/06</td>\n",
       "      <td>03:18:36.662</td>\n",
       "      <td>Thread 54</td>\n",
       "      <td>INFO</td>\n",
       "      <td>process_request : Connection from 2001:6b0:17:...</td>\n",
       "    </tr>\n",
       "    <tr>\n",
       "      <th>002ea5f2-99ad-434d-a810-5cc729ae926a</th>\n",
       "      <td>03/06</td>\n",
       "      <td>03:18:36.969</td>\n",
       "      <td>Thread 54</td>\n",
       "      <td>INFO</td>\n",
       "      <td>Request 'BOL status' from Client IP='2001:6b0:...</td>\n",
       "    </tr>\n",
       "    <tr>\n",
       "      <th>...</th>\n",
       "      <td>...</td>\n",
       "      <td>...</td>\n",
       "      <td>...</td>\n",
       "      <td>...</td>\n",
       "      <td>...</td>\n",
       "    </tr>\n",
       "    <tr>\n",
       "      <th>NaN</th>\n",
       "      <td>03/06</td>\n",
       "      <td>03:18:11.989</td>\n",
       "      <td>Thread 49</td>\n",
       "      <td>\"INFO [9db89c21-bb4d-4d61-81fb-c5beaa2a2c47</td>\n",
       "      <td>__process_file_request&lt;&gt; : Received - 4 - prot...</td>\n",
       "    </tr>\n",
       "    <tr>\n",
       "      <th>NaN</th>\n",
       "      <td>03/06</td>\n",
       "      <td>03:18:11.989</td>\n",
       "      <td>Thread 49</td>\n",
       "      <td>\"INFO [9db89c21-bb4d-4d61-81fb-c5beaa2a2c47</td>\n",
       "      <td>__process_file_request&lt;&gt; : Some of the provide...</td>\n",
       "    </tr>\n",
       "    <tr>\n",
       "      <th>NaN</th>\n",
       "      <td>03/06</td>\n",
       "      <td>03:19:30.240</td>\n",
       "      <td>Thread 38</td>\n",
       "      <td>\"INFO [44642b49-15ae-4a35-b4cd-78daddc7011f</td>\n",
       "      <td>__process_file_request&lt;&gt; : Protocol check fail...</td>\n",
       "    </tr>\n",
       "    <tr>\n",
       "      <th>NaN</th>\n",
       "      <td>03/06</td>\n",
       "      <td>03:19:30.240</td>\n",
       "      <td>Thread 38</td>\n",
       "      <td>\"INFO [44642b49-15ae-4a35-b4cd-78daddc7011f</td>\n",
       "      <td>__process_file_request&lt;&gt; : Received - 4 - prot...</td>\n",
       "    </tr>\n",
       "    <tr>\n",
       "      <th>NaN</th>\n",
       "      <td>03/06</td>\n",
       "      <td>03:19:30.240</td>\n",
       "      <td>Thread 38</td>\n",
       "      <td>\"INFO [44642b49-15ae-4a35-b4cd-78daddc7011f</td>\n",
       "      <td>__process_file_request&lt;&gt; : Some of the provide...</td>\n",
       "    </tr>\n",
       "  </tbody>\n",
       "</table>\n",
       "<p>10000 rows × 5 columns</p>\n",
       "</div>"
      ],
      "text/plain": [
       "                                       date          time        PID  \\\n",
       "id                                                                     \n",
       "0021ded1-6a54-4a37-a828-8f1f238951df  03/06  03:20:06.225  Thread 18   \n",
       "0021ded1-6a54-4a37-a828-8f1f238951df  03/06  03:20:06.283  Thread 18   \n",
       "0021ded1-6a54-4a37-a828-8f1f238951df  03/06  03:20:06.301  Thread 18   \n",
       "002ea5f2-99ad-434d-a810-5cc729ae926a  03/06  03:18:36.662  Thread 54   \n",
       "002ea5f2-99ad-434d-a810-5cc729ae926a  03/06  03:18:36.969  Thread 54   \n",
       "...                                     ...           ...        ...   \n",
       "NaN                                   03/06  03:18:11.989  Thread 49   \n",
       "NaN                                   03/06  03:18:11.989  Thread 49   \n",
       "NaN                                   03/06  03:19:30.240  Thread 38   \n",
       "NaN                                   03/06  03:19:30.240  Thread 38   \n",
       "NaN                                   03/06  03:19:30.240  Thread 38   \n",
       "\n",
       "                                                                            Level  \\\n",
       "id                                                                                  \n",
       "0021ded1-6a54-4a37-a828-8f1f238951df                                        INFO    \n",
       "0021ded1-6a54-4a37-a828-8f1f238951df                                        INFO    \n",
       "0021ded1-6a54-4a37-a828-8f1f238951df                                        INFO    \n",
       "002ea5f2-99ad-434d-a810-5cc729ae926a                                        INFO    \n",
       "002ea5f2-99ad-434d-a810-5cc729ae926a                                        INFO    \n",
       "...                                                                           ...   \n",
       "NaN                                   \"INFO [9db89c21-bb4d-4d61-81fb-c5beaa2a2c47   \n",
       "NaN                                   \"INFO [9db89c21-bb4d-4d61-81fb-c5beaa2a2c47   \n",
       "NaN                                   \"INFO [44642b49-15ae-4a35-b4cd-78daddc7011f   \n",
       "NaN                                   \"INFO [44642b49-15ae-4a35-b4cd-78daddc7011f   \n",
       "NaN                                   \"INFO [44642b49-15ae-4a35-b4cd-78daddc7011f   \n",
       "\n",
       "                                                                                message  \n",
       "id                                                                                       \n",
       "0021ded1-6a54-4a37-a828-8f1f238951df  process_request : Connection from ::ffff:131.1...  \n",
       "0021ded1-6a54-4a37-a828-8f1f238951df  ns1__srmLs : Request: Ls. IP: ::ffff:131.154.1...  \n",
       "0021ded1-6a54-4a37-a828-8f1f238951df           Result for request 'Ls' is 'SRM_SUCCESS'  \n",
       "002ea5f2-99ad-434d-a810-5cc729ae926a  process_request : Connection from 2001:6b0:17:...  \n",
       "002ea5f2-99ad-434d-a810-5cc729ae926a  Request 'BOL status' from Client IP='2001:6b0:...  \n",
       "...                                                                                 ...  \n",
       "NaN                                   __process_file_request<> : Received - 4 - prot...  \n",
       "NaN                                   __process_file_request<> : Some of the provide...  \n",
       "NaN                                   __process_file_request<> : Protocol check fail...  \n",
       "NaN                                   __process_file_request<> : Received - 4 - prot...  \n",
       "NaN                                   __process_file_request<> : Some of the provide...  \n",
       "\n",
       "[10000 rows x 5 columns]"
      ]
     },
     "execution_count": 34,
     "metadata": {},
     "output_type": "execute_result"
    }
   ],
   "source": [
    "frontend"
   ]
  },
  {
   "cell_type": "code",
   "execution_count": 56,
   "id": "0bcf1004",
   "metadata": {},
   "outputs": [
    {
     "name": "stdout",
     "output_type": "stream",
     "text": [
      "nan\n"
     ]
    },
    {
     "ename": "KeyError",
     "evalue": "nan",
     "output_type": "error",
     "traceback": [
      "\u001b[1;31m---------------------------------------------------------------------------\u001b[0m",
      "\u001b[1;31mKeyError\u001b[0m                                  Traceback (most recent call last)",
      "\u001b[1;32mC:\\ProgramData\\Anaconda3\\lib\\site-packages\\pandas\\core\\indexes\\base.py\u001b[0m in \u001b[0;36mget_loc\u001b[1;34m(self, key, method, tolerance)\u001b[0m\n\u001b[0;32m   3360\u001b[0m             \u001b[1;32mtry\u001b[0m\u001b[1;33m:\u001b[0m\u001b[1;33m\u001b[0m\u001b[1;33m\u001b[0m\u001b[0m\n\u001b[1;32m-> 3361\u001b[1;33m                 \u001b[1;32mreturn\u001b[0m \u001b[0mself\u001b[0m\u001b[1;33m.\u001b[0m\u001b[0m_engine\u001b[0m\u001b[1;33m.\u001b[0m\u001b[0mget_loc\u001b[0m\u001b[1;33m(\u001b[0m\u001b[0mcasted_key\u001b[0m\u001b[1;33m)\u001b[0m\u001b[1;33m\u001b[0m\u001b[1;33m\u001b[0m\u001b[0m\n\u001b[0m\u001b[0;32m   3362\u001b[0m             \u001b[1;32mexcept\u001b[0m \u001b[0mKeyError\u001b[0m \u001b[1;32mas\u001b[0m \u001b[0merr\u001b[0m\u001b[1;33m:\u001b[0m\u001b[1;33m\u001b[0m\u001b[1;33m\u001b[0m\u001b[0m\n",
      "\u001b[1;32mC:\\ProgramData\\Anaconda3\\lib\\site-packages\\pandas\\_libs\\index.pyx\u001b[0m in \u001b[0;36mpandas._libs.index.IndexEngine.get_loc\u001b[1;34m()\u001b[0m\n",
      "\u001b[1;32mC:\\ProgramData\\Anaconda3\\lib\\site-packages\\pandas\\_libs\\index.pyx\u001b[0m in \u001b[0;36mpandas._libs.index.IndexEngine.get_loc\u001b[1;34m()\u001b[0m\n",
      "\u001b[1;32mC:\\ProgramData\\Anaconda3\\lib\\site-packages\\pandas\\_libs\\index.pyx\u001b[0m in \u001b[0;36mpandas._libs.index.IndexEngine._get_loc_duplicates\u001b[1;34m()\u001b[0m\n",
      "\u001b[1;32mC:\\ProgramData\\Anaconda3\\lib\\site-packages\\pandas\\_libs\\index.pyx\u001b[0m in \u001b[0;36mpandas._libs.index.IndexEngine._maybe_get_bool_indexer\u001b[1;34m()\u001b[0m\n",
      "\u001b[1;32mC:\\ProgramData\\Anaconda3\\lib\\site-packages\\pandas\\_libs\\index.pyx\u001b[0m in \u001b[0;36mpandas._libs.index.IndexEngine._unpack_bool_indexer\u001b[1;34m()\u001b[0m\n",
      "\u001b[1;31mKeyError\u001b[0m: nan",
      "\nThe above exception was the direct cause of the following exception:\n",
      "\u001b[1;31mKeyError\u001b[0m                                  Traceback (most recent call last)",
      "\u001b[1;32mC:\\Users\\ELISAB~1\\AppData\\Local\\Temp/ipykernel_23400/4007018310.py\u001b[0m in \u001b[0;36m<module>\u001b[1;34m\u001b[0m\n\u001b[0;32m      3\u001b[0m \u001b[1;32mfor\u001b[0m \u001b[0mi\u001b[0m \u001b[1;32min\u001b[0m \u001b[0mset\u001b[0m\u001b[1;33m(\u001b[0m\u001b[0mfrontend\u001b[0m\u001b[1;33m.\u001b[0m\u001b[0mindex\u001b[0m\u001b[1;33m)\u001b[0m\u001b[1;33m:\u001b[0m\u001b[1;33m\u001b[0m\u001b[1;33m\u001b[0m\u001b[0m\n\u001b[0;32m      4\u001b[0m     \u001b[0mprint\u001b[0m\u001b[1;33m(\u001b[0m\u001b[0mi\u001b[0m\u001b[1;33m)\u001b[0m\u001b[1;33m\u001b[0m\u001b[1;33m\u001b[0m\u001b[0m\n\u001b[1;32m----> 5\u001b[1;33m     \u001b[0mPID\u001b[0m \u001b[1;33m=\u001b[0m \u001b[0mfrontend\u001b[0m\u001b[1;33m[\u001b[0m\u001b[1;34m'PID'\u001b[0m\u001b[1;33m]\u001b[0m\u001b[1;33m[\u001b[0m\u001b[0mi\u001b[0m\u001b[1;33m]\u001b[0m\u001b[1;33m\u001b[0m\u001b[1;33m\u001b[0m\u001b[0m\n\u001b[0m\u001b[0;32m      6\u001b[0m \u001b[1;31m#     if type(PID) == str:\u001b[0m\u001b[1;33m\u001b[0m\u001b[1;33m\u001b[0m\u001b[0m\n\u001b[0;32m      7\u001b[0m \u001b[1;31m#         new_frontend.loc[i]['PID'] = PID\u001b[0m\u001b[1;33m\u001b[0m\u001b[1;33m\u001b[0m\u001b[0m\n",
      "\u001b[1;32mC:\\ProgramData\\Anaconda3\\lib\\site-packages\\pandas\\core\\series.py\u001b[0m in \u001b[0;36m__getitem__\u001b[1;34m(self, key)\u001b[0m\n\u001b[0;32m    940\u001b[0m \u001b[1;33m\u001b[0m\u001b[0m\n\u001b[0;32m    941\u001b[0m         \u001b[1;32melif\u001b[0m \u001b[0mkey_is_scalar\u001b[0m\u001b[1;33m:\u001b[0m\u001b[1;33m\u001b[0m\u001b[1;33m\u001b[0m\u001b[0m\n\u001b[1;32m--> 942\u001b[1;33m             \u001b[1;32mreturn\u001b[0m \u001b[0mself\u001b[0m\u001b[1;33m.\u001b[0m\u001b[0m_get_value\u001b[0m\u001b[1;33m(\u001b[0m\u001b[0mkey\u001b[0m\u001b[1;33m)\u001b[0m\u001b[1;33m\u001b[0m\u001b[1;33m\u001b[0m\u001b[0m\n\u001b[0m\u001b[0;32m    943\u001b[0m \u001b[1;33m\u001b[0m\u001b[0m\n\u001b[0;32m    944\u001b[0m         \u001b[1;32mif\u001b[0m \u001b[0mis_hashable\u001b[0m\u001b[1;33m(\u001b[0m\u001b[0mkey\u001b[0m\u001b[1;33m)\u001b[0m\u001b[1;33m:\u001b[0m\u001b[1;33m\u001b[0m\u001b[1;33m\u001b[0m\u001b[0m\n",
      "\u001b[1;32mC:\\ProgramData\\Anaconda3\\lib\\site-packages\\pandas\\core\\series.py\u001b[0m in \u001b[0;36m_get_value\u001b[1;34m(self, label, takeable)\u001b[0m\n\u001b[0;32m   1049\u001b[0m \u001b[1;33m\u001b[0m\u001b[0m\n\u001b[0;32m   1050\u001b[0m         \u001b[1;31m# Similar to Index.get_value, but we do not fall back to positional\u001b[0m\u001b[1;33m\u001b[0m\u001b[1;33m\u001b[0m\u001b[0m\n\u001b[1;32m-> 1051\u001b[1;33m         \u001b[0mloc\u001b[0m \u001b[1;33m=\u001b[0m \u001b[0mself\u001b[0m\u001b[1;33m.\u001b[0m\u001b[0mindex\u001b[0m\u001b[1;33m.\u001b[0m\u001b[0mget_loc\u001b[0m\u001b[1;33m(\u001b[0m\u001b[0mlabel\u001b[0m\u001b[1;33m)\u001b[0m\u001b[1;33m\u001b[0m\u001b[1;33m\u001b[0m\u001b[0m\n\u001b[0m\u001b[0;32m   1052\u001b[0m         \u001b[1;32mreturn\u001b[0m \u001b[0mself\u001b[0m\u001b[1;33m.\u001b[0m\u001b[0mindex\u001b[0m\u001b[1;33m.\u001b[0m\u001b[0m_get_values_for_loc\u001b[0m\u001b[1;33m(\u001b[0m\u001b[0mself\u001b[0m\u001b[1;33m,\u001b[0m \u001b[0mloc\u001b[0m\u001b[1;33m,\u001b[0m \u001b[0mlabel\u001b[0m\u001b[1;33m)\u001b[0m\u001b[1;33m\u001b[0m\u001b[1;33m\u001b[0m\u001b[0m\n\u001b[0;32m   1053\u001b[0m \u001b[1;33m\u001b[0m\u001b[0m\n",
      "\u001b[1;32mC:\\ProgramData\\Anaconda3\\lib\\site-packages\\pandas\\core\\indexes\\base.py\u001b[0m in \u001b[0;36mget_loc\u001b[1;34m(self, key, method, tolerance)\u001b[0m\n\u001b[0;32m   3361\u001b[0m                 \u001b[1;32mreturn\u001b[0m \u001b[0mself\u001b[0m\u001b[1;33m.\u001b[0m\u001b[0m_engine\u001b[0m\u001b[1;33m.\u001b[0m\u001b[0mget_loc\u001b[0m\u001b[1;33m(\u001b[0m\u001b[0mcasted_key\u001b[0m\u001b[1;33m)\u001b[0m\u001b[1;33m\u001b[0m\u001b[1;33m\u001b[0m\u001b[0m\n\u001b[0;32m   3362\u001b[0m             \u001b[1;32mexcept\u001b[0m \u001b[0mKeyError\u001b[0m \u001b[1;32mas\u001b[0m \u001b[0merr\u001b[0m\u001b[1;33m:\u001b[0m\u001b[1;33m\u001b[0m\u001b[1;33m\u001b[0m\u001b[0m\n\u001b[1;32m-> 3363\u001b[1;33m                 \u001b[1;32mraise\u001b[0m \u001b[0mKeyError\u001b[0m\u001b[1;33m(\u001b[0m\u001b[0mkey\u001b[0m\u001b[1;33m)\u001b[0m \u001b[1;32mfrom\u001b[0m \u001b[0merr\u001b[0m\u001b[1;33m\u001b[0m\u001b[1;33m\u001b[0m\u001b[0m\n\u001b[0m\u001b[0;32m   3364\u001b[0m \u001b[1;33m\u001b[0m\u001b[0m\n\u001b[0;32m   3365\u001b[0m         \u001b[1;32mif\u001b[0m \u001b[0mis_scalar\u001b[0m\u001b[1;33m(\u001b[0m\u001b[0mkey\u001b[0m\u001b[1;33m)\u001b[0m \u001b[1;32mand\u001b[0m \u001b[0misna\u001b[0m\u001b[1;33m(\u001b[0m\u001b[0mkey\u001b[0m\u001b[1;33m)\u001b[0m \u001b[1;32mand\u001b[0m \u001b[1;32mnot\u001b[0m \u001b[0mself\u001b[0m\u001b[1;33m.\u001b[0m\u001b[0mhasnans\u001b[0m\u001b[1;33m:\u001b[0m\u001b[1;33m\u001b[0m\u001b[1;33m\u001b[0m\u001b[0m\n",
      "\u001b[1;31mKeyError\u001b[0m: nan"
     ]
    }
   ],
   "source": [
    "new_frontend = pd.DataFrame(columns = ['PID', 'date_time_start', 'date_time_end', 'msg1'], index = set(frontend.index))\n",
    "\n",
    "for i in set(frontend.index):  \n",
    "    print(i)\n",
    "    PID = frontend['PID'][i]\n",
    "#     if type(PID) == str:\n",
    "#         new_frontend.loc[i]['PID'] = PID\n",
    "    if len(set(PID)) == 1:\n",
    "        new_frontend.loc[i]['PID'] = PID[0]\n",
    "    else:\n",
    "        print(f\"Different threads associated to the same ID {i}\")\n",
    "        break\n",
    "    \n",
    "    date_time = list(frontend.loc[i]['date'] + ' ' + frontend.loc[i]['time'])\n",
    "    new_frontend.loc[i]['date_time_start'] = date_time[0]\n",
    "    new_frontend.loc[i]['date_time_end'] = date_time[-1]\n",
    "    \n",
    "    msg = list(frontend.loc[i]['message'])\n",
    "\n",
    "    while new_frontend.shape[1] - 3 < len(msg):\n",
    "        new_frontend[f'msg{new_frontend.shape[1] - 2}'] = None\n",
    "    \n",
    "    for v in range(len(msg)):\n",
    "        new_frontend.loc[i][f'msg{v+1}'] = msg[v]\n",
    "\n",
    "new_frontend.head(20)"
   ]
  },
  {
   "cell_type": "code",
   "execution_count": 40,
   "id": "ebdfa48c",
   "metadata": {},
   "outputs": [
    {
     "data": {
      "text/plain": [
       "id\n",
       "26a84056-daff-4fef-81e7-4fd70ff15f97    Thread 37\n",
       "26a84056-daff-4fef-81e7-4fd70ff15f97    Thread 37\n",
       "26a84056-daff-4fef-81e7-4fd70ff15f97    Thread 37\n",
       "Name: PID, dtype: object"
      ]
     },
     "execution_count": 40,
     "metadata": {},
     "output_type": "execute_result"
    }
   ],
   "source": [
    "i = '8e42bdee-bab9-47e8-b1f9-7ce9779d6e70'\n",
    "i = '26a84056-daff-4fef-81e7-4fd70ff15f97'\n",
    "PID = list(frontend.loc[i]['PID'])\n",
    "frontend['PID'][i]"
   ]
  },
  {
   "cell_type": "code",
   "execution_count": 10,
   "id": "0850304a",
   "metadata": {},
   "outputs": [],
   "source": [
    "i = '26a84056-daff-4fef-81e7-4fd70ff15f97'\n",
    "a = frontend.loc[i]['PID']\n",
    "b = frontend.loc[i]['time']"
   ]
  },
  {
   "cell_type": "code",
   "execution_count": 11,
   "id": "ee233e13",
   "metadata": {},
   "outputs": [
    {
     "data": {
      "text/plain": [
       "4"
      ]
     },
     "execution_count": 11,
     "metadata": {},
     "output_type": "execute_result"
    }
   ],
   "source": [
    "new_frontend[f'msg{1}'] = None\n",
    "\n",
    "new_frontend.shape[1]"
   ]
  },
  {
   "cell_type": "code",
   "execution_count": 12,
   "id": "fa07d605",
   "metadata": {},
   "outputs": [
    {
     "data": {
      "text/plain": [
       "['Thread 37 03:20:00.387', 'Thread 37 03:20:00.671', 'Thread 37 03:20:00.674']"
      ]
     },
     "execution_count": 12,
     "metadata": {},
     "output_type": "execute_result"
    }
   ],
   "source": [
    "list(a + ' ' + b)"
   ]
  },
  {
   "cell_type": "code",
   "execution_count": 57,
   "id": "a86a5b92",
   "metadata": {},
   "outputs": [
    {
     "ename": "NameError",
     "evalue": "name 'na' is not defined",
     "output_type": "error",
     "traceback": [
      "\u001b[1;31m---------------------------------------------------------------------------\u001b[0m",
      "\u001b[1;31mNameError\u001b[0m                                 Traceback (most recent call last)",
      "\u001b[1;32mC:\\Users\\ELISAB~1\\AppData\\Local\\Temp/ipykernel_23400/3425466515.py\u001b[0m in \u001b[0;36m<module>\u001b[1;34m\u001b[0m\n\u001b[0;32m      1\u001b[0m \u001b[1;32mimport\u001b[0m \u001b[0mnumpy\u001b[0m \u001b[1;32mas\u001b[0m \u001b[0mnp\u001b[0m\u001b[1;33m\u001b[0m\u001b[1;33m\u001b[0m\u001b[0m\n\u001b[0;32m      2\u001b[0m \u001b[1;33m\u001b[0m\u001b[0m\n\u001b[1;32m----> 3\u001b[1;33m \u001b[0mfrontend\u001b[0m\u001b[1;33m[\u001b[0m\u001b[1;34m'PID'\u001b[0m\u001b[1;33m]\u001b[0m\u001b[1;33m[\u001b[0m\u001b[0mna\u001b[0m\u001b[1;33m]\u001b[0m\u001b[1;33m\u001b[0m\u001b[1;33m\u001b[0m\u001b[0m\n\u001b[0m",
      "\u001b[1;31mNameError\u001b[0m: name 'na' is not defined"
     ]
    }
   ],
   "source": [
    "import numpy as np\n",
    "\n",
    "frontend['PID'][na]"
   ]
  }
 ],
 "metadata": {
  "kernelspec": {
   "display_name": "Python 3 (ipykernel)",
   "language": "python",
   "name": "python3"
  },
  "language_info": {
   "codemirror_mode": {
    "name": "ipython",
    "version": 3
   },
   "file_extension": ".py",
   "mimetype": "text/x-python",
   "name": "python",
   "nbconvert_exporter": "python",
   "pygments_lexer": "ipython3",
   "version": "3.9.7"
  }
 },
 "nbformat": 4,
 "nbformat_minor": 5
}
