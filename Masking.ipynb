{
 "cells": [
  {
   "cell_type": "code",
   "execution_count": 1,
   "id": "bfff558f",
   "metadata": {},
   "outputs": [],
   "source": [
    "import ipaddress as ip\n",
    "import pandas as pd\n",
    "import re\n"
   ]
  },
  {
   "cell_type": "raw",
   "id": "a2abd95a",
   "metadata": {},
   "source": [
    "file_name = \"./storm-frontend-20200307.txt\"\n",
    "\n",
    "data = pd.read_csv(file_name, nrows=-1)\n",
    "\n",
    "temp = data.Content.str.split(' ', expand=True)\n",
    "\n",
    "for i in temp.index:\n",
    "    for j in temp.iloc[i].index:\n",
    "        try:\n",
    "            ip.IPv6Address(temp.iloc[i,j])\n",
    "            temp.iloc[i,j] = 'IP'\n",
    "        except ValueError:\n",
    "            continue    \n",
    "            \n",
    "temp2 = pd.DataFrame({'col1' : [0]*len(temp)})\n",
    "for i in temp.index:\n",
    "    message = ''\n",
    "    for word in temp.iloc[i]:\n",
    "        if word != None:\n",
    "            message += str(word)\n",
    "            message += ' '\n",
    "    temp2.iloc[i] = message\n",
    "temp = temp2.copy()\n",
    "\n",
    "data.Content = temp\n",
    "data.to_csv(\".\\storm-frontend-20200307-mask.txt\", index=False)"
   ]
  },
  {
   "cell_type": "raw",
   "id": "1d61bfe7",
   "metadata": {},
   "source": [
    "temp.iloc[4]"
   ]
  },
  {
   "cell_type": "raw",
   "id": "6469c6bb",
   "metadata": {},
   "source": [
    "# temp = data.Content.str.split('IP=\\'', expand=True)\n",
    "\n",
    "temp = temp.split('. ', expand=True)\n",
    "# print(temp)"
   ]
  },
  {
   "cell_type": "code",
   "execution_count": 103,
   "id": "7574e09b",
   "metadata": {},
   "outputs": [
    {
     "name": "stdout",
     "output_type": "stream",
     "text": [
      "ns1__srmRm : Request: Rm. IP: 2001:1458:d00:14::162. Client DN: /DC=ch/DC=cern/OU=Organic Units/OU=Users/CN=ddmadmin/CN=531497/CN=Robot: ATLAS Data Management. surl(s): srm://storm-fe.cr.cnaf.infn.it/atlas/atlasdatadisk/rucio/data17_13TeV/57/99/DAOD_RPVLL.20625778._000380.pool.root.1\n",
      "\n",
      "Result for request 'Rm' is 'SRM_FAILURE'\n",
      "\n",
      "ns1__srmLs : Request: Ls. IP: 2001:1458:d00:14::162. Client DN: /DC=ch/DC=cern/OU=Organic Units/OU=Users/CN=ddmadmin/CN=531497/CN=Robot: ATLAS Data Management\n",
      "\n",
      "Result for request 'Ls' is 'SRM_SUCCESS'\n",
      "\n",
      "ns1__srmGetSpaceTokens : Request: Get space tokens. IP: 2001:1458:d00:14::162. Client DN: /DC=ch/DC=cern/OU=Organic Units/OU=Users/CN=ddmadmin/CN=531497/CN=Robot: ATLAS Data Management. space token description: ATLASDATADISK\n",
      "\n",
      "+++++++++++++++++++++++++++++++++++++++++++++++++++++++\n",
      "ns1__srmRm : Request: Rm. IP: IP162. Client DN: /DC=ch/DC=cern/OU=Organic Units/OU=Users/CN=ddmadmin/CN=531497/CN=Robot: ATLAS Data Management. surl(s): srm://storm-fe.cr.cnaf.infn.it/atlas/atlasdatadisk/rucio/data17_13TeV/57/99/DAOD_RPVLL.20625778._000380.pool.root.1\n",
      "\n",
      "Result for request 'Rm' is 'SRM_FAILURE'\n",
      "\n",
      "ns1__srmLs : Request: Ls. IP: IP162. Client DN: /DC=ch/DC=cern/OU=Organic Units/OU=Users/CN=ddmadmin/CN=531497/CN=Robot: ATLAS Data Management\n",
      "\n",
      "Result for request 'Ls' is 'SRM_SUCCESS'\n",
      "\n",
      "ns1__srmGetSpaceTokens : Request: Get space tokens. IP: IP162. Client DN: /DC=ch/DC=cern/OU=Organic Units/OU=Users/CN=ddmadmin/CN=531497/CN=Robot: ATLAS Data Management. space token description: ATLASDATADISK\n",
      "\n"
     ]
    }
   ],
   "source": [
    "file_name = \"./storm-frontend-20200307.txt\"\n",
    "\n",
    "ipv4_address = re.compile(r'((25[0-5]|(2[0-4]|1{0,1}[0-9]){0,1}[0-9])\\.){3,3}(25[0-5]|(2[0-4]|1{0,1}[0-9]){0,1}[0-9])')\n",
    "ipv6_address = re.compile(r'(([0-9a-fA-F]{1,4}:){7,7}[0-9a-fA-F]{1,4}|([0-9a-fA-F]{1,4}:){1,7}: | ([0-9a-fA-F]{1,4}:){1,6}:[0-9a-fA-F]{1,4}|([0-9a-fA-F]{1,4}:){1,5}(:[0-9a-fA-F]{1,4}){1,2}|([0-9a-fA-F]{1,4}:){1,4}(:[0-9a-fA-F]{1,4}){1,3}|([0-9a-fA-F]{1,4}:){1,3}(:[0-9a-fA-F]{1,4}){1,4}|([0-9a-fA-F]{1,4}:){1,2}(:[0-9a-fA-F]{1,4}){1,5}|[0-9a-fA-F]{1,4}:((:[0-9a-fA-F]{1,4}){1,6})|:((:[0-9a-fA-F]{1,4}){1,7}|:)|[fF][eE]80:(:[0-9a-fA-F]{0,4}){0,4}%[0-9a-zA-Z]{1,}|::([fF]{4}(:0{1,4}){0,1}:){0,1}((25[0-5]|(2[0-4]|1{0,1}[0-9]){0,1}[0-9])\\.){3,3}(25[0-5]|(2[0-4]|1{0,1}[0-9]){0,1}[0-9])|([0-9a-fA-F]{1,4}:){1,4}:((25[0-5]|(2[0-4]|1{0,1}[0-9]){0,1}[0-9])\\.){3,3}(25[0-5]|(2[0-4]|1{0,1}[0-9]){0,1}[0-9]))')\n",
    "# ipv6_address = re.compile('/^(?>(?>([a-f0-9]{1,4})(?>:(?1)){7}|(?!(?:.*[a-f0-9](?>:|$)){8,})((?1)(?>:(?1)){0,6})?::(?2)?)|(?>(?>(?1)(?>:(?1)){5}:|(?!(?:.*[a-f0-9]:){6,})(?3)?::(?>((?1)(?>:(?1)){0,4}):)?)?(25[0-5]|2[0-4][0-9]|1[0-9]{2}|[1-9]?[0-9])(?>\\.(?4)){3}))$/iD')\n",
    "\n",
    "\n",
    "# IPV4SEG  = f'(25[0-5]|(2[0-4]|1{0,1}[0-9]){0,1}[0-9])'\n",
    "# IPV4ADDR = f'({IPV4SEG}\\.){3,3}{IPV4SEG}'\n",
    "# IPV6SEG  = f'[0-9a-fA-F]{1,4}'\n",
    "# IPV6ADDR = f'(({IPV6SEG}:){7,7}{IPV6SEG}|({IPV6SEG}:){1,7}:|({IPV6SEG}:){1,6}:{IPV6SEG}|({IPV6SEG}:){1,5}(:{IPV6SEG}){1,2}|({IPV6SEG}:){1,4}(:{IPV6SEG}){1,3}|({IPV6SEG}:){1,3}(:{IPV6SEG}){1,4}|({IPV6SEG}:){1,2}(:{IPV6SEG}){1,5}|{IPV6SEG}:((:{IPV6SEG}){1,6})|:((:{IPV6SEG}){1,7}|:)|fe80:(:{IPV6SEG}){0,4}%[0-9a-zA-Z]{1,}|::(ffff(:0{1,4}){0,1}:){0,1}{IPV4ADDR}|({IPV6SEG}:){1,4}:{IPV4ADDR})'\n",
    "# ipv6_address = re.compile((IPV6ADDR))\n",
    "\n",
    "\n",
    "\n",
    "# 2001:1458:201:e3::100:1c\n",
    "# 2001:1458:201:e4::100:245\n",
    "# 2001:1458:d00:14::162\n",
    "# 2620:0:210:1::1d\n",
    "\n",
    "data = pd.read_csv(file_name)\n",
    "f = data.Content\n",
    "\n",
    "for line in f[25:30]:\n",
    "    print(line)\n",
    "    print()\n",
    "\n",
    "print('+++++++++++++++++++++++++++++++++++++++++++++++++++++++')\n",
    "specific_substitute = 'IP'\n",
    "\n",
    "for i in f.index:\n",
    "    f[i] = re.sub(ipv6_address, specific_substitute, f[i])\n",
    "#     print(f[i])\n",
    "#     f[i] = re.sub(ipv4_address, specific_substitute, f[i])\n",
    "    \n",
    "for line in f[25:30]:\n",
    "    print(line)\n",
    "    print()\n",
    "    \n",
    "data.Content = f\n",
    "data.to_csv(\".\\storm-frontend-20200307-mask.txt\", index=False)"
   ]
  },
  {
   "cell_type": "raw",
   "id": "f6f01e5d",
   "metadata": {},
   "source": [
    "for i in temp.index:\n",
    "    for j in temp.iloc[i].index:\n",
    "        print(temp.iloc[i][j])\n",
    "        print('++++++++++++++++++')\n",
    "        "
   ]
  },
  {
   "cell_type": "raw",
   "id": "f6982422",
   "metadata": {},
   "source": [
    "temp = data.Content.str.split(' ', expand=True)\n",
    "temp"
   ]
  },
  {
   "cell_type": "raw",
   "id": "5a8af473",
   "metadata": {},
   "source": [
    "for i in [\"Variable\", \"x is not\", \"defined\"]:\n",
    "    try:\n",
    "        print(i)\n",
    "        ip.IPv6Address(i)\n",
    "    except ValueError:\n",
    "        print(\"Error\")"
   ]
  },
  {
   "cell_type": "code",
   "execution_count": 69,
   "id": "ff089280",
   "metadata": {},
   "outputs": [
    {
     "ename": "AddressValueError",
     "evalue": "Expected 4 octets in '100:1c'",
     "output_type": "error",
     "traceback": [
      "\u001b[1;31m---------------------------------------------------------------------------\u001b[0m",
      "\u001b[1;31mAddressValueError\u001b[0m                         Traceback (most recent call last)",
      "Input \u001b[1;32mIn [69]\u001b[0m, in \u001b[0;36m<cell line: 1>\u001b[1;34m()\u001b[0m\n\u001b[1;32m----> 1\u001b[0m \u001b[43mip\u001b[49m\u001b[38;5;241;43m.\u001b[39;49m\u001b[43mIPv4Address\u001b[49m\u001b[43m(\u001b[49m\u001b[38;5;124;43m'\u001b[39;49m\u001b[38;5;124;43m100:1c\u001b[39;49m\u001b[38;5;124;43m'\u001b[39;49m\u001b[43m)\u001b[49m\n",
      "File \u001b[1;32mC:\\Program Files\\WindowsApps\\PythonSoftwareFoundation.Python.3.10_3.10.752.0_x64__qbz5n2kfra8p0\\lib\\ipaddress.py:1308\u001b[0m, in \u001b[0;36mIPv4Address.__init__\u001b[1;34m(self, address)\u001b[0m\n\u001b[0;32m   1306\u001b[0m \u001b[38;5;28;01mif\u001b[39;00m \u001b[38;5;124m'\u001b[39m\u001b[38;5;124m/\u001b[39m\u001b[38;5;124m'\u001b[39m \u001b[38;5;129;01min\u001b[39;00m addr_str:\n\u001b[0;32m   1307\u001b[0m     \u001b[38;5;28;01mraise\u001b[39;00m AddressValueError(\u001b[38;5;124m\"\u001b[39m\u001b[38;5;124mUnexpected \u001b[39m\u001b[38;5;124m'\u001b[39m\u001b[38;5;124m/\u001b[39m\u001b[38;5;124m'\u001b[39m\u001b[38;5;124m in \u001b[39m\u001b[38;5;132;01m%r\u001b[39;00m\u001b[38;5;124m\"\u001b[39m \u001b[38;5;241m%\u001b[39m address)\n\u001b[1;32m-> 1308\u001b[0m \u001b[38;5;28mself\u001b[39m\u001b[38;5;241m.\u001b[39m_ip \u001b[38;5;241m=\u001b[39m \u001b[38;5;28;43mself\u001b[39;49m\u001b[38;5;241;43m.\u001b[39;49m\u001b[43m_ip_int_from_string\u001b[49m\u001b[43m(\u001b[49m\u001b[43maddr_str\u001b[49m\u001b[43m)\u001b[49m\n",
      "File \u001b[1;32mC:\\Program Files\\WindowsApps\\PythonSoftwareFoundation.Python.3.10_3.10.752.0_x64__qbz5n2kfra8p0\\lib\\ipaddress.py:1195\u001b[0m, in \u001b[0;36m_BaseV4._ip_int_from_string\u001b[1;34m(cls, ip_str)\u001b[0m\n\u001b[0;32m   1193\u001b[0m octets \u001b[38;5;241m=\u001b[39m ip_str\u001b[38;5;241m.\u001b[39msplit(\u001b[38;5;124m'\u001b[39m\u001b[38;5;124m.\u001b[39m\u001b[38;5;124m'\u001b[39m)\n\u001b[0;32m   1194\u001b[0m \u001b[38;5;28;01mif\u001b[39;00m \u001b[38;5;28mlen\u001b[39m(octets) \u001b[38;5;241m!=\u001b[39m \u001b[38;5;241m4\u001b[39m:\n\u001b[1;32m-> 1195\u001b[0m     \u001b[38;5;28;01mraise\u001b[39;00m AddressValueError(\u001b[38;5;124m\"\u001b[39m\u001b[38;5;124mExpected 4 octets in \u001b[39m\u001b[38;5;132;01m%r\u001b[39;00m\u001b[38;5;124m\"\u001b[39m \u001b[38;5;241m%\u001b[39m ip_str)\n\u001b[0;32m   1197\u001b[0m \u001b[38;5;28;01mtry\u001b[39;00m:\n\u001b[0;32m   1198\u001b[0m     \u001b[38;5;28;01mreturn\u001b[39;00m \u001b[38;5;28mint\u001b[39m\u001b[38;5;241m.\u001b[39mfrom_bytes(\u001b[38;5;28mmap\u001b[39m(\u001b[38;5;28mcls\u001b[39m\u001b[38;5;241m.\u001b[39m_parse_octet, octets), \u001b[38;5;124m'\u001b[39m\u001b[38;5;124mbig\u001b[39m\u001b[38;5;124m'\u001b[39m)\n",
      "\u001b[1;31mAddressValueError\u001b[0m: Expected 4 octets in '100:1c'"
     ]
    }
   ],
   "source": [
    "ip.IPv4Address('100:1c')"
   ]
  },
  {
   "cell_type": "raw",
   "id": "c17ad585",
   "metadata": {},
   "source": [
    "ip.IPv6Address('2001:1458:201:e3::100:1c')"
   ]
  },
  {
   "cell_type": "raw",
   "id": "ba1b3b81",
   "metadata": {},
   "source": [
    "AddressValueError"
   ]
  }
 ],
 "metadata": {
  "kernelspec": {
   "display_name": "Python 3 (ipykernel)",
   "language": "python",
   "name": "python3"
  },
  "language_info": {
   "codemirror_mode": {
    "name": "ipython",
    "version": 3
   },
   "file_extension": ".py",
   "mimetype": "text/x-python",
   "name": "python",
   "nbconvert_exporter": "python",
   "pygments_lexer": "ipython3",
   "version": "3.10.2"
  }
 },
 "nbformat": 4,
 "nbformat_minor": 5
}
