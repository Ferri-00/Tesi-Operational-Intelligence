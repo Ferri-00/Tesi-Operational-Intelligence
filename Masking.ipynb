{
 "cells": [
  {
   "cell_type": "code",
   "execution_count": 50,
   "id": "bfff558f",
   "metadata": {},
   "outputs": [],
   "source": [
    "import ipaddress as ip\n",
    "import pandas as pd"
   ]
  },
  {
   "cell_type": "code",
   "execution_count": 82,
   "id": "1ff5fd6c",
   "metadata": {},
   "outputs": [],
   "source": [
    "file_name = \"./storm-frontend-20200307.txt\"\n",
    "\n",
    "data = pd.read_csv(file_name)\n",
    "\n",
    "temp = data.Content.str.split('IP:', expand=True)\n",
    "temp = data.Content.str.split(' ', expand=True)\n",
    "\n",
    "for i in temp.index:\n",
    "    for j in temp.iloc[i].index:\n",
    "        try:\n",
    "            ip.IPv6Address(temp.iloc[i,j])\n",
    "            temp.iloc[i,j] = 'IP'\n",
    "        except ValueError:\n",
    "            continue    \n",
    "            \n",
    "temp2 = pd.DataFrame({'col1' : [0]*len(temp)})\n",
    "for i in temp.index:\n",
    "    message = ''\n",
    "    for word in temp.iloc[i]:\n",
    "        if word != None:\n",
    "            message += str(word)\n",
    "            message += ' '\n",
    "    temp2.iloc[i] = message\n",
    "temp = temp2.copy()\n",
    "\n",
    "data.Content = temp\n",
    "data.to_csv(\".\\storm-frontend-20200307-mask.txt\", index=False)"
   ]
  },
  {
   "cell_type": "raw",
   "id": "f6f01e5d",
   "metadata": {},
   "source": [
    "for i in temp.index:\n",
    "    for j in temp.iloc[i].index:\n",
    "        print(temp.iloc[i][j])\n",
    "        print('++++++++++++++++++')\n",
    "        "
   ]
  },
  {
   "cell_type": "raw",
   "id": "f6982422",
   "metadata": {},
   "source": [
    "temp = data.Content.str.split(' ', expand=True)\n",
    "temp"
   ]
  },
  {
   "cell_type": "raw",
   "id": "5a8af473",
   "metadata": {},
   "source": [
    "for i in [\"Variable\", \"x is not\", \"defined\"]:\n",
    "    try:\n",
    "        print(i)\n",
    "        ip.IPv6Address(i)\n",
    "    except ValueError:\n",
    "        print(\"Error\")"
   ]
  },
  {
   "cell_type": "raw",
   "id": "2a2fe164",
   "metadata": {},
   "source": [
    "ip.IPv4Address('2001:1458:201:e3::100:1c')"
   ]
  },
  {
   "cell_type": "raw",
   "id": "c17ad585",
   "metadata": {},
   "source": [
    "ip.IPv6Address('2001:1458:201:e3::100:1c')"
   ]
  },
  {
   "cell_type": "raw",
   "id": "ba1b3b81",
   "metadata": {},
   "source": [
    "AddressValueError"
   ]
  }
 ],
 "metadata": {
  "kernelspec": {
   "display_name": "Python 3 (ipykernel)",
   "language": "python",
   "name": "python3"
  },
  "language_info": {
   "codemirror_mode": {
    "name": "ipython",
    "version": 3
   },
   "file_extension": ".py",
   "mimetype": "text/x-python",
   "name": "python",
   "nbconvert_exporter": "python",
   "pygments_lexer": "ipython3",
   "version": "3.10.2"
  }
 },
 "nbformat": 4,
 "nbformat_minor": 5
}
