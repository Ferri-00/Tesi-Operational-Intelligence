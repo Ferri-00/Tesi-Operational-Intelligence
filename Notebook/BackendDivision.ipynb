{
 "cells": [
  {
   "cell_type": "code",
   "execution_count": 3,
   "id": "7cd64a48",
   "metadata": {},
   "outputs": [],
   "source": [
    "import pandas as pd\n",
    "import time"
   ]
  },
  {
   "cell_type": "code",
   "execution_count": 4,
   "id": "1da3a62f",
   "metadata": {},
   "outputs": [],
   "source": [
    "t0 = time.time()"
   ]
  },
  {
   "cell_type": "code",
   "execution_count": 5,
   "id": "944d465b",
   "metadata": {},
   "outputs": [],
   "source": [
    "file_name = '.\\\\logs_7-13march\\\\storm-atlas-1\\\\storm-backend-2020-03-10.log'"
   ]
  },
  {
   "cell_type": "code",
   "execution_count": 6,
   "id": "5f6ffad6",
   "metadata": {},
   "outputs": [],
   "source": [
    "backend = pd.DataFrame(open(file_name).readlines())"
   ]
  },
  {
   "cell_type": "code",
   "execution_count": 7,
   "id": "0cc908b6",
   "metadata": {},
   "outputs": [],
   "source": [
    "backend = backend[0].str.split(' - ', expand=True)"
   ]
  },
  {
   "cell_type": "code",
   "execution_count": 8,
   "id": "c539d77e",
   "metadata": {},
   "outputs": [],
   "source": [
    "backend = backend.rename(columns={0:\"time\", 1:\"INFO\", 2: \"message\", 3:\"message\", 4:\"message\"})"
   ]
  },
  {
   "cell_type": "code",
   "execution_count": 9,
   "id": "cbde02ef",
   "metadata": {},
   "outputs": [],
   "source": [
    "backend.to_csv(\".\\storm-frontend-20200307.txt\", index=False)"
   ]
  },
  {
   "cell_type": "code",
   "execution_count": 10,
   "id": "c3cf872d",
   "metadata": {},
   "outputs": [
    {
     "data": {
      "text/html": [
       "<div>\n",
       "<style scoped>\n",
       "    .dataframe tbody tr th:only-of-type {\n",
       "        vertical-align: middle;\n",
       "    }\n",
       "\n",
       "    .dataframe tbody tr th {\n",
       "        vertical-align: top;\n",
       "    }\n",
       "\n",
       "    .dataframe thead th {\n",
       "        text-align: right;\n",
       "    }\n",
       "</style>\n",
       "<table border=\"1\" class=\"dataframe\">\n",
       "  <thead>\n",
       "    <tr style=\"text-align: right;\">\n",
       "      <th></th>\n",
       "      <th>time</th>\n",
       "      <th>INFO</th>\n",
       "      <th>message</th>\n",
       "      <th>message</th>\n",
       "      <th>message</th>\n",
       "    </tr>\n",
       "  </thead>\n",
       "  <tbody>\n",
       "    <tr>\n",
       "      <th>0</th>\n",
       "      <td>00:00:00.015</td>\n",
       "      <td>INFO [xmlrpc-258303]</td>\n",
       "      <td>srmPing: &lt;/DC=ch/DC=cern/OU=Organic Units/OU=U...</td>\n",
       "      <td>None</td>\n",
       "      <td>None</td>\n",
       "    </tr>\n",
       "    <tr>\n",
       "      <th>1</th>\n",
       "      <td>00:00:00.060</td>\n",
       "      <td>INFO [xmlrpc-258283]</td>\n",
       "      <td>srmLs: user &lt;/DC=ch/DC=cern/OU=Organic Units/O...</td>\n",
       "      <td>None</td>\n",
       "      <td>None</td>\n",
       "    </tr>\n",
       "    <tr>\n",
       "      <th>2</th>\n",
       "      <td>00:00:00.128</td>\n",
       "      <td>INFO [xmlrpc-258025]</td>\n",
       "      <td>srmLs: user &lt;/DC=ch/DC=cern/OU=Organic Units/O...</td>\n",
       "      <td>None</td>\n",
       "      <td>None</td>\n",
       "    </tr>\n",
       "    <tr>\n",
       "      <th>3</th>\n",
       "      <td>00:00:00.287</td>\n",
       "      <td>INFO [xmlrpc-258302]</td>\n",
       "      <td>srmLs: user &lt;/DC=ch/DC=cern/OU=Organic Units/O...</td>\n",
       "      <td>None</td>\n",
       "      <td>None</td>\n",
       "    </tr>\n",
       "    <tr>\n",
       "      <th>4</th>\n",
       "      <td>00:00:00.332</td>\n",
       "      <td>INFO [xmlrpc-258290]</td>\n",
       "      <td>srmLs: user &lt;/DC=ch/DC=cern/OU=Organic Units/O...</td>\n",
       "      <td>None</td>\n",
       "      <td>None</td>\n",
       "    </tr>\n",
       "    <tr>\n",
       "      <th>...</th>\n",
       "      <td>...</td>\n",
       "      <td>...</td>\n",
       "      <td>...</td>\n",
       "      <td>...</td>\n",
       "      <td>...</td>\n",
       "    </tr>\n",
       "    <tr>\n",
       "      <th>429677</th>\n",
       "      <td>23:59:59.412</td>\n",
       "      <td>INFO [xmlrpc-6203]</td>\n",
       "      <td>srmLs: user &lt;/DC=ch/DC=cern/OU=Organic Units/O...</td>\n",
       "      <td>None</td>\n",
       "      <td>None</td>\n",
       "    </tr>\n",
       "    <tr>\n",
       "      <th>429678</th>\n",
       "      <td>23:59:59.432</td>\n",
       "      <td>INFO [xmlrpc-6208]</td>\n",
       "      <td>srmGetSpaceTokens: &lt;Grid User (VOMS) =  DN:'OI...</td>\n",
       "      <td>None</td>\n",
       "      <td>None</td>\n",
       "    </tr>\n",
       "    <tr>\n",
       "      <th>429679</th>\n",
       "      <td>23:59:59.729</td>\n",
       "      <td>INFO [xmlrpc-6210]</td>\n",
       "      <td>srmLs: user &lt;/DC=ch/DC=cern/OU=Organic Units/O...</td>\n",
       "      <td>None</td>\n",
       "      <td>None</td>\n",
       "    </tr>\n",
       "    <tr>\n",
       "      <th>429680</th>\n",
       "      <td>23:59:59.749</td>\n",
       "      <td>INFO [xmlrpc-6211]</td>\n",
       "      <td>srmPing: &lt;/DC=ch/DC=cern/OU=Organic Units/OU=U...</td>\n",
       "      <td>None</td>\n",
       "      <td>None</td>\n",
       "    </tr>\n",
       "    <tr>\n",
       "      <th>429681</th>\n",
       "      <td>23:59:59.835</td>\n",
       "      <td>INFO [xmlrpc-6184]</td>\n",
       "      <td>srmLs: user &lt;/DC=ch/DC=cern/OU=Organic Units/O...</td>\n",
       "      <td>None</td>\n",
       "      <td>None</td>\n",
       "    </tr>\n",
       "  </tbody>\n",
       "</table>\n",
       "<p>429682 rows × 5 columns</p>\n",
       "</div>"
      ],
      "text/plain": [
       "                time                  INFO  \\\n",
       "0       00:00:00.015  INFO [xmlrpc-258303]   \n",
       "1       00:00:00.060  INFO [xmlrpc-258283]   \n",
       "2       00:00:00.128  INFO [xmlrpc-258025]   \n",
       "3       00:00:00.287  INFO [xmlrpc-258302]   \n",
       "4       00:00:00.332  INFO [xmlrpc-258290]   \n",
       "...              ...                   ...   \n",
       "429677  23:59:59.412    INFO [xmlrpc-6203]   \n",
       "429678  23:59:59.432    INFO [xmlrpc-6208]   \n",
       "429679  23:59:59.729    INFO [xmlrpc-6210]   \n",
       "429680  23:59:59.749    INFO [xmlrpc-6211]   \n",
       "429681  23:59:59.835    INFO [xmlrpc-6184]   \n",
       "\n",
       "                                                  message message message  \n",
       "0       srmPing: </DC=ch/DC=cern/OU=Organic Units/OU=U...    None    None  \n",
       "1       srmLs: user </DC=ch/DC=cern/OU=Organic Units/O...    None    None  \n",
       "2       srmLs: user </DC=ch/DC=cern/OU=Organic Units/O...    None    None  \n",
       "3       srmLs: user </DC=ch/DC=cern/OU=Organic Units/O...    None    None  \n",
       "4       srmLs: user </DC=ch/DC=cern/OU=Organic Units/O...    None    None  \n",
       "...                                                   ...     ...     ...  \n",
       "429677  srmLs: user </DC=ch/DC=cern/OU=Organic Units/O...    None    None  \n",
       "429678  srmGetSpaceTokens: <Grid User (VOMS) =  DN:'OI...    None    None  \n",
       "429679  srmLs: user </DC=ch/DC=cern/OU=Organic Units/O...    None    None  \n",
       "429680  srmPing: </DC=ch/DC=cern/OU=Organic Units/OU=U...    None    None  \n",
       "429681  srmLs: user </DC=ch/DC=cern/OU=Organic Units/O...    None    None  \n",
       "\n",
       "[429682 rows x 5 columns]"
      ]
     },
     "execution_count": 10,
     "metadata": {},
     "output_type": "execute_result"
    }
   ],
   "source": [
    "backend"
   ]
  },
  {
   "cell_type": "code",
   "execution_count": 12,
   "id": "6f66d08f",
   "metadata": {},
   "outputs": [
    {
     "data": {
      "text/plain": [
       "13.694938898086548"
      ]
     },
     "execution_count": 12,
     "metadata": {},
     "output_type": "execute_result"
    }
   ],
   "source": [
    "time.time()-t0"
   ]
  }
 ],
 "metadata": {
  "kernelspec": {
   "display_name": "Python 3 (ipykernel)",
   "language": "python",
   "name": "python3"
  },
  "language_info": {
   "codemirror_mode": {
    "name": "ipython",
    "version": 3
   },
   "file_extension": ".py",
   "mimetype": "text/x-python",
   "name": "python",
   "nbconvert_exporter": "python",
   "pygments_lexer": "ipython3",
   "version": "3.10.4"
  }
 },
 "nbformat": 4,
 "nbformat_minor": 5
}
