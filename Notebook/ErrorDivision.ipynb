{
 "cells": [
  {
   "cell_type": "code",
   "execution_count": 9,
   "id": "fe6d1799",
   "metadata": {},
   "outputs": [],
   "source": [
    "import pandas as pd\n",
    "import numpy as np\n",
    "\n",
    "import re"
   ]
  },
  {
   "cell_type": "code",
   "execution_count": 10,
   "id": "f4d835dc",
   "metadata": {},
   "outputs": [],
   "source": [
    "v = '07'\n",
    "file_name = f\"../../File/FrontendFileGroup/storm-frontend-202003{v}-mask-group.txt\"\n",
    "# file_name = f\"../File/FrontendFileGroup/storm-frontend-202003{v}-group.txt\"\n",
    "\n",
    "logs = pd.read_csv(file_name, index_col=0, nrows=1e4)\n",
    "errors = pd.DataFrame(columns=logs.columns)"
   ]
  },
  {
   "cell_type": "code",
   "execution_count": 11,
   "id": "65a7c823",
   "metadata": {},
   "outputs": [],
   "source": [
    "for idx, msg in zip(logs.index, logs.message):\n",
    "    resultE = re.search('error', msg.lower())\n",
    "    resultF = re.search('failure', msg.lower())\n",
    "    resultP = re.search('problem', msg.lower())\n",
    "    if resultE!=None or resultF!=None or resultP!=None:\n",
    "        errors.loc[idx] = logs.loc[idx]\n",
    "        logs = logs.drop(idx, axis=0)\n"
   ]
  },
  {
   "cell_type": "code",
   "execution_count": 17,
   "id": "6fe7e45c",
   "metadata": {},
   "outputs": [
    {
     "data": {
      "text/plain": [
       "\"process_request : Connection from<IP>:b4 Result for request 'Ping' is 'SRM_SUCCESS' Request 'PTG status' from Client IP='<IP>' Client DN='/DC=ch/DC=cern/OU=Organic Units/OU=Users/CN=ddmadmin/CN=531497/CN=Robot: ATLAS Data Management' # Requested token '<TOKEN>' ns1__srmLs : Request: Ls. IP:<IP>:b4. Client DN: /DC=ch/DC=cern/OU=Organic Units/OU=Users/CN=ddmadmin/CN=531497/CN=Robot: ATLAS Data Management Result for request 'Ls' is 'SRM_SUCCESS' ns1__srmLs : Request: Ls. IP:<IP>:b4. Client DN: /DC=ch/DC=cern/OU=Organic Units/OU=Users/CN=ddmadmin/CN=531497/CN=Robot: ATLAS Data Management ns1__srmPing : Request: Ping. IP:<IP>:b4. Client DN: /DC=ch/DC=cern/OU=Organic Units/OU=Users/CN=ddmadmin/CN=531497/CN=Robot: ATLAS Data Management Result for request 'Ls' is 'SRM_SUCCESS' ns1__srmLs : Request: Ls. IP:<IP>:b4. Client DN: /DC=ch/DC=cern/OU=Organic Units/OU=Users/CN=ddmadmin/CN=531497/CN=Robot: ATLAS Data Management Result for request 'Ls' is 'SRM_SUCCESS' Result for request 'PTG status' is 'SRM_REQUEST_INPROGRESS' Request 'PTG status' from Client IP='<IP>' Client DN='/DC=ch/DC=cern/OU=Organic Units/OU=Users/CN=ddmadmin/CN=531497/CN=Robot: ATLAS Data Management' # Requested token '<TOKEN>' Request 'PTG' from Client IP='<IP>' Client DN='/DC=ch/DC=cern/OU=Organic Units/OU=Users/CN=ddmadmin/CN=531497/CN=Robot: ATLAS Data Management' # Requested '1' SURL(s): 'srm://storm-fe.cr.cnaf.infn.it/atlas/atlasdatadisk/rucio/data17_13TeV/e9/a2/data17_13TeV.00338767.physics_Main.daq.RAW._lb0318._SFO-4._0003.data' Result for request 'PTG' is 'SRM_REQUEST_QUEUED'. # Produced request token: '<TOKEN>' Request 'PTG status' from Client IP='<IP>' Client DN='/DC=ch/DC=cern/OU=Organic Units/OU=Users/CN=ddmadmin/CN=531497/CN=Robot: ATLAS Data Management' # Requested token '<TOKEN>' Result for request 'PTG status' is 'SRM_REQUEST_QUEUED' Result for request 'PTG status' is 'SRM_SUCCESS'\""
      ]
     },
     "execution_count": 17,
     "metadata": {},
     "output_type": "execute_result"
    }
   ],
   "source": [
    "logs.message[25]"
   ]
  },
  {
   "cell_type": "code",
   "execution_count": 15,
   "id": "57f27e09",
   "metadata": {},
   "outputs": [
    {
     "data": {
      "text/plain": [
       "\"Result for request 'Ls' is 'SRM_SUCCESS' ns1__srmPing : Request: Ping. IP: <IP>.154.208.10. Client DN: /DC=ch/DC=cern/OU=Organic Units/OU=Users/CN=atlpilo1/CN=614260/CN=Robot: ATLAS Pilot1 Result for request 'Ping' is 'SRM_SUCCESS' ns1__srmLs : Request: Ls. IP: <IP>.154.208.10. Client DN: /DC=ch/DC=cern/OU=Organic Units/OU=Users/CN=atlpilo1/CN=614260/CN=Robot: ATLAS Pilot1 ns1__srmGetSpaceTokens : Request: Get space tokens. IP: <IP>.154.208.10. Client DN: /DC=ch/DC=cern/OU=Organic Units/OU=Users/CN=atlpilo1/CN=614260/CN=Robot: ATLAS Pilot1. space token description: ATLASDATADISK Result for request 'Get space tokens' is 'SRM_SUCCESS' Request 'PTP' from Client IP='<IP>.154.208.10' Client DN='/DC=ch/DC=cern/OU=Organic Units/OU=Users/CN=atlpilo1/CN=614260/CN=Robot: ATLAS Pilot1' # Requested '1' SURL(s): 'srm://storm-fe.cr.cnaf.infn.it/atlas/atlasdatadisk/rucio/data16_13TeV/97/91/DAOD_STDM5.20711631._000105.pool.root.1.rucio.upload' Result for request 'Ls' is 'SRM_FAILURE' ns1__srmLs : Request: Ls. IP: <IP>.154.208.10. Client DN: /DC=ch/DC=cern/OU=Organic Units/OU=Users/CN=atlpilo1/CN=614260/CN=Robot: ATLAS Pilot1 Result for request 'PTP status' is 'SRM_REQUEST_INPROGRESS' Request 'PTP status' from Client IP='<IP>.154.208.10' Client DN='/DC=ch/DC=cern/OU=Organic Units/OU=Users/CN=atlpilo1/CN=614260/CN=Robot: ATLAS Pilot1' # Requested token '<TOKEN>' Result for request 'PTP status' is 'SRM_REQUEST_INPROGRESS' Request 'PTP status' from Client IP='<IP>.154.208.10' Client DN='/DC=ch/DC=cern/OU=Organic Units/OU=Users/CN=atlpilo1/CN=614260/CN=Robot: ATLAS Pilot1' # Requested token '<TOKEN>' Request 'PTP status' from Client IP='<IP>.154.208.10' Client DN='/DC=ch/DC=cern/OU=Organic Units/OU=Users/CN=atlpilo1/CN=614260/CN=Robot: ATLAS Pilot1' # Requested token '<TOKEN>' Result for request 'PTP status' is 'SRM_REQUEST_QUEUED' Request 'PTP status' from Client IP='<IP>.154.208.10' Client DN='/DC=ch/DC=cern/OU=Organic Units/OU=Users/CN=atlpilo1/CN=614260/CN=Robot: ATLAS Pilot1' # Requested token '<TOKEN>' Result for request 'PTP status' is 'SRM_REQUEST_QUEUED' Request 'PTP status' from Client IP='<IP>.154.208.10' Client DN='/DC=ch/DC=cern/OU=Organic Units/OU=Users/CN=atlpilo1/CN=614260/CN=Robot: ATLAS Pilot1' # Requested token '<TOKEN>' Result for request 'PTP status' is 'SRM_REQUEST_QUEUED' Request 'PTP status' from Client IP='<IP>.154.208.10' Client DN='/DC=ch/DC=cern/OU=Organic Units/OU=Users/CN=atlpilo1/CN=614260/CN=Robot: ATLAS Pilot1' # Requested token '<TOKEN>' Result for request 'PTP status' is 'SRM_REQUEST_INPROGRESS' Request 'PTP status' from Client IP='<IP>.154.208.10' Client DN='/DC=ch/DC=cern/OU=Organic Units/OU=Users/CN=atlpilo1/CN=614260/CN=Robot: ATLAS Pilot1' # Requested token '<TOKEN>' Result for request 'PTP status' is 'SRM_REQUEST_INPROGRESS' Request 'PTP status' from Client IP='<IP>.154.208.10' Client DN='/DC=ch/DC=cern/OU=Organic Units/OU=Users/CN=atlpilo1/CN=614260/CN=Robot: ATLAS Pilot1' # Requested token '<TOKEN>' Result for request 'PTP' is 'SRM_REQUEST_QUEUED'. # Produced request token: '<TOKEN>' Result for request 'Mv' is 'SRM_SUCCESS' Result for request 'PTP status' is 'SRM_REQUEST_INPROGRESS' Result for request 'Ls' is 'SRM_FAILURE' ns1__srmPutDone : Request: Put done. IP: <IP>.154.208.10. Client DN: /DC=ch/DC=cern/OU=Organic Units/OU=Users/CN=atlpilo1/CN=614260/CN=Robot: ATLAS Pilot1. surl(s): srm://storm-fe.cr.cnaf.infn.it/atlas/atlasdatadisk/rucio/data16_13TeV/97/91/DAOD_STDM5.20711631._000105.pool.root.1.rucio.upload. token: <TOKEN> Result for request 'Ls' is 'SRM_SUCCESS' ns1__srmLs : Request: Ls. IP: <IP>.154.208.10. Client DN: /DC=ch/DC=cern/OU=Organic Units/OU=Users/CN=atlpilo1/CN=614260/CN=Robot: ATLAS Pilot1 Result for request 'Ls' is 'SRM_SUCCESS' ns1__srmLs : Request: Ls. IP: <IP>.154.208.10. Client DN: /DC=ch/DC=cern/OU=Organic Units/OU=Users/CN=atlpilo1/CN=614260/CN=Robot: ATLAS Pilot1 ns1__srmMv : Request: Mv. IP: <IP>.154.208.10. Client DN: /DC=ch/DC=cern/OU=Organic Units/OU=Users/CN=atlpilo1/CN=614260/CN=Robot: ATLAS Pilot1. from_surl: srm://storm-fe.cr.cnaf.infn.it/atlas/atlasdatadisk/rucio/data16_13TeV/97/91/DAOD_STDM5.20711631._000105.pool.root.1.rucio.upload to_surl: srm://storm-fe.cr.cnaf.infn.it/atlas/atlasdatadisk/rucio/data16_13TeV/97/91/DAOD_STDM5.20711631._000105.pool.root.1 Request 'PTP status' from Client IP='<IP>.154.208.10' Client DN='/DC=ch/DC=cern/OU=Organic Units/OU=Users/CN=atlpilo1/CN=614260/CN=Robot: ATLAS Pilot1' # Requested token '<TOKEN>' Result for request 'PTP status' is 'SRM_SUCCESS' Request 'PTP status' from Client IP='<IP>.154.208.10' Client DN='/DC=ch/DC=cern/OU=Organic Units/OU=Users/CN=atlpilo1/CN=614260/CN=Robot: ATLAS Pilot1' # Requested token '<TOKEN>' Result for request 'Put done' is 'SRM_SUCCESS' process_request : Connection from <IP>.154.208.10 ns1__srmLs : Request: Ls. IP: <IP>.154.208.10. Client DN: /DC=ch/DC=cern/OU=Organic Units/OU=Users/CN=atlpilo1/CN=614260/CN=Robot: ATLAS Pilot1 ns1__srmLs : Request: Ls. IP: <IP>.154.208.10. Client DN: /DC=ch/DC=cern/OU=Organic Units/OU=Users/CN=atlpilo1/CN=614260/CN=Robot: ATLAS Pilot1 Result for request 'Ls' is 'SRM_SUCCESS' Result for request 'PTP status' is 'SRM_REQUEST_INPROGRESS' Request 'PTP status' from Client IP='<IP>.154.208.10' Client DN='/DC=ch/DC=cern/OU=Organic Units/OU=Users/CN=atlpilo1/CN=614260/CN=Robot: ATLAS Pilot1' # Requested token '<TOKEN>' Result for request 'PTP status' is 'SRM_REQUEST_INPROGRESS' Request 'PTP status' from Client IP='<IP>.154.208.10' Client DN='/DC=ch/DC=cern/OU=Organic Units/OU=Users/CN=atlpilo1/CN=614260/CN=Robot: ATLAS Pilot1' # Requested token '<TOKEN>' Result for request 'PTP status' is 'SRM_REQUEST_INPROGRESS'\""
      ]
     },
     "execution_count": 15,
     "metadata": {},
     "output_type": "execute_result"
    }
   ],
   "source": [
    "errors.message[0]"
   ]
  },
  {
   "cell_type": "code",
   "execution_count": null,
   "id": "491ddd0c",
   "metadata": {},
   "outputs": [],
   "source": []
  }
 ],
 "metadata": {
  "kernelspec": {
   "display_name": "Python 3 (ipykernel)",
   "language": "python",
   "name": "python3"
  },
  "language_info": {
   "codemirror_mode": {
    "name": "ipython",
    "version": 3
   },
   "file_extension": ".py",
   "mimetype": "text/x-python",
   "name": "python",
   "nbconvert_exporter": "python",
   "pygments_lexer": "ipython3",
   "version": "3.10.4"
  }
 },
 "nbformat": 4,
 "nbformat_minor": 5
}
