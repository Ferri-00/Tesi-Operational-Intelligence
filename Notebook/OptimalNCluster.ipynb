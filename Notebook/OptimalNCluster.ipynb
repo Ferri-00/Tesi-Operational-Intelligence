{
 "cells": [
  {
   "cell_type": "code",
   "execution_count": 1,
   "id": "fefd86af",
   "metadata": {},
   "outputs": [],
   "source": [
    "# import libraries\n",
    "from __future__ import print_function\n",
    "\n",
    "import pandas as pd\n",
    "import numpy as np\n",
    "\n",
    "import matplotlib.colors as mcolors\n",
    "import matplotlib.pyplot as plt\n",
    "\n",
    "from collections import Counter, defaultdict\n",
    "\n",
    "import time\n",
    "\n",
    "from sklearn.datasets import fetch_20newsgroups\n",
    "from sklearn.decomposition import TruncatedSVD\n",
    "from sklearn.feature_extraction.text import TfidfVectorizer\n",
    "from sklearn.feature_extraction.text import HashingVectorizer\n",
    "from sklearn.feature_extraction.text import TfidfTransformer\n",
    "from sklearn.pipeline import make_pipeline\n",
    "from sklearn.preprocessing import Normalizer\n",
    "from sklearn import metrics\n",
    "\n",
    "from sklearn.cluster import KMeans, MiniBatchKMeans\n",
    "\n",
    "import logging\n",
    "from optparse import OptionParser\n",
    "import sys\n",
    "from time import time\n",
    "\n",
    "# Display all cell outputs\n",
    "from IPython.core.interactiveshell import InteractiveShell\n",
    "InteractiveShell.ast_node_interactivity = 'all'\n",
    "\n",
    "from IPython import get_ipython\n",
    "ipython = get_ipython()\n",
    "\n",
    "# autoreload extension\n",
    "# if 'autoreload' not in ipython.extension_manager.loaded:\n",
    "#     get_ipython().run_line_magic('load_ext', 'autoreload')\n",
    "\n",
    "# get_ipython().run_line_magic('autoreload', '2')\n",
    "\n",
    "# Visualizations\n",
    "import seaborn as sns"
   ]
  },
  {
   "cell_type": "code",
   "execution_count": 2,
   "id": "632f0a61",
   "metadata": {},
   "outputs": [
    {
     "name": "stdout",
     "output_type": "stream",
     "text": [
      "We have 78654 logs messages, for a total of 65542 unique tokens adopted.\n"
     ]
    },
    {
     "name": "stderr",
     "output_type": "stream",
     "text": [
      "\n",
      "KeyboardInterrupt\n",
      "\n"
     ]
    }
   ],
   "source": [
    "v = '11'\n",
    "file_name = f\"/home/ATLAS-T3/eferri/File/FrontendFileGroup/storm-frontend-202003{v}-mask-group.txt\"\n",
    "\n",
    "with open(f'/home/ATLAS-T3/eferri/File/DataSet/data-set-frontend-202003{v}.csv') as file_name:\n",
    "    X = np.loadtxt(file_name, delimiter=\",\")"
   ]
  },
  {
   "cell_type": "code",
   "execution_count": null,
   "id": "ac925910",
   "metadata": {},
   "outputs": [],
   "source": [
    "start = 10\n",
    "stop = 50\n",
    "step = 1"
   ]
  },
  {
   "cell_type": "code",
   "execution_count": null,
   "id": "2505db8b",
   "metadata": {},
   "outputs": [],
   "source": [
    "from sklearn.metrics import silhouette_score\n",
    "\n",
    "labels = np.arange(0, stop)\n",
    "Sum_of_squared_distances = []\n",
    "silhouette_avg = []\n",
    "\n",
    "K = range(start, stop, step)    \n",
    "\n",
    "for n_clusters in K:\n",
    "    # run K-Means algorithm: 6 clusters\n",
    "    km = KMeans(n_clusters=n_clusters, \n",
    "                init='k-means++', \n",
    "                max_iter=500, \n",
    "                n_init=100,\n",
    "#                 verbose=1\n",
    "               )\n",
    "\n",
    "    print(\"Clustering sparse data with %s\" % km)\n",
    "    t0 = time()\n",
    "    km.fit(X)\n",
    "    print(\"done in %0.3fs\" % (time() - t0))\n",
    "    print()\n",
    "\n",
    "    print(\"We have {} centroids represented as {}-dimensional points.\".format(km.cluster_centers_.shape[0],\n",
    "                                                                              km.cluster_centers_.shape[1]))\n",
    "    \n",
    "    Sum_of_squared_distances.append(km.inertia_)\n",
    "    cluster_labels = km.labels_\n",
    "    # silhouette score\n",
    "    silhouette_avg.append(silhouette_score(X, cluster_labels))\n",
    "    \n",
    "    logs[\"kmean_labels\"] = km.labels_\n",
    "\n",
    "    label = np.unique(km.labels_)\n",
    "    count = [Counter(km.labels_)[i] for i in label]\n",
    "\n",
    "plt.plot(K,Sum_of_squared_distances,'bx-')\n",
    "plt.xlabel('Values of K') \n",
    "plt.ylabel('Sum of squared distances/Inertia')\n",
    "ax.set(xticks=np.arange(10, 50, 2))\n",
    "plt.grid()\n",
    "plt.title('Elbow Method For Optimal k')\n",
    "plt.savefig(f'/home/ATLAS-T3/eferri/File/BestCentroid/frontend-202003{v}-squared distances', bbox_inches =\"tight\")\n",
    "plt.show()\n",
    "\n",
    "plt.plot(K,silhouette_avg, 'bx-')\n",
    "plt.xlabel('Values of K') \n",
    "plt.ylabel('Silhouette score') \n",
    "ax.set(xticks=np.arange(10, 50, 2))\n",
    "plt.grid()\n",
    "plt.title('Silhouette analysis For Optimal k')\n",
    "plt.savefig(f'/home/ATLAS-T3/eferri/File/BestCentroid/frontend-202003{v}-silhouette score', bbox_inches =\"tight\")\n",
    "plt.show()"
   ]
  },
  {
   "cell_type": "code",
   "execution_count": null,
   "id": "ddef4ba4",
   "metadata": {},
   "outputs": [],
   "source": [
    "maxS = max(silhouette_avg)"
   ]
  },
  {
   "cell_type": "code",
   "execution_count": null,
   "id": "efa16549",
   "metadata": {},
   "outputs": [],
   "source": [
    "indS = silhouette_avg.index(maxS)"
   ]
  },
  {
   "cell_type": "code",
   "execution_count": null,
   "id": "d412e93e",
   "metadata": {},
   "outputs": [],
   "source": [
    "K[indS]"
   ]
  },
  {
   "cell_type": "code",
   "execution_count": null,
   "id": "3847cc7f",
   "metadata": {},
   "outputs": [],
   "source": [
    "silhouette_avg[indS]"
   ]
  },
  {
   "cell_type": "code",
   "execution_count": null,
   "id": "b49e101d",
   "metadata": {},
   "outputs": [],
   "source": []
  }
 ],
 "metadata": {
  "kernelspec": {
   "display_name": "Python 3 (ipykernel)",
   "language": "python",
   "name": "python3"
  },
  "language_info": {
   "codemirror_mode": {
    "name": "ipython",
    "version": 3
   },
   "file_extension": ".py",
   "mimetype": "text/x-python",
   "name": "python",
   "nbconvert_exporter": "python",
   "pygments_lexer": "ipython3",
   "version": "3.10.4"
  }
 },
 "nbformat": 4,
 "nbformat_minor": 5
}
