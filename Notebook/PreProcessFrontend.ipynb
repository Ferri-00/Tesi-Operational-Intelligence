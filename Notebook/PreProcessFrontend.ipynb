{
 "cells": [
  {
   "cell_type": "code",
   "execution_count": null,
   "id": "6ca0dcc7",
   "metadata": {},
   "outputs": [],
   "source": [
    "import pandas as pd\n",
    "import time\n",
    "import os\n",
    "\n",
    "def frontend_data(file_number):\n",
    "    temporary_file = './temporaryFile.csv'\n",
    "    \n",
    "    for v in file_number:\n",
    "#         file_name = f\"./logs_7-13march/storm-atlas/storm-frontend-server.log-202003{v}.gz\"\n",
    "        file_name = f\"../logs_7-13march/storm-atlas-1/storm-frontend-server.log-202003{v}.gz\"\n",
    "\n",
    "        print(\"reading \", file_name)\n",
    "#         frontend = pd.read_table(file_name , sep = ' -  ' , engine='pyarrow', header= None , nrows = 1e5,\n",
    "#                                  encoding='utf-8', dtype='object')\n",
    "\n",
    "        frontend = pd.read_table(file_name , sep = r'\\,|\\t' , engine='python', header= None , nrows = 1e5,\n",
    "                                 encoding='utf-8')\n",
    "        frontend.to_csv(\"tempo.txt\", header=False , index=False)\n",
    "        frontend = pd.read_csv(\"tempo.txt\" , sep = ' -  ' , engine='python', header= None , nrows = 1e5,\n",
    "                                 encoding='utf-8')\n",
    "        for w, i in zip(frontend[1], frontend.index):\n",
    "            if w == None:\n",
    "                frontend = frontend.drop(labels=i, axis=0)\n",
    "                print(f\"Line {i} of file \\'{file_name}\\' has been droped\")\n",
    "        \n",
    "        \n",
    "        frontend.iloc[1720:1730].to_csv('./prova.txt', header=False , index=False)\n",
    "        \n",
    "        frontend[0].to_csv(temporary_file , header=False , index=False)\n",
    "\n",
    "        temporary = pd.read_csv(temporary_file , sep=None , header=None , engine='python', encoding='ASCII')\n",
    "        \n",
    "        temporary[2] = temporary[2].astype(\"string\")\n",
    "        temporary[3] = temporary[3].astype(\"string\")\n",
    "        temporary[2] = temporary[2] + ' ' + temporary[3]\n",
    "\n",
    "        frontend[1] = frontend[1].astype(\"object\")\n",
    "        frontend[1].to_csv(temporary_file , header=False , index=False)\n",
    "\n",
    "        frontend = temporary.drop(3, axis=1)\n",
    "        frontend.columns = [\"date\", \"time\", \"PID\"]\n",
    "\n",
    "        temporary = pd.read_table(temporary_file , sep= '[' , header=None , engine='python', encoding='ASCII')\n",
    "        \n",
    "        print(temporary.iloc[1720:1730])\n",
    "        \n",
    "        frontend = pd.concat([frontend, temporary[0], temporary[1]], axis=1)\n",
    "        frontend = frontend.rename(columns={0:\"Level\", 1:\"message\"})\n",
    "        \n",
    "        frontend.message.to_csv(temporary_file , header=False , index=False)\n",
    "        temporary = pd.read_csv(temporary_file , sep= \"]: \" , header=None , engine='python', encoding='ASCII')\n",
    "        frontend.message = temporary[1]\n",
    "        frontend.insert(4, \"id\", temporary[0])\n",
    "\n",
    "        print(f\"saving storm-frontend-202003{v}.txt\")\n",
    "        frontend.to_csv(f\"../File/FrontendFile/storm-frontend-202003{v}.txt\" , index=False)\n",
    "\n",
    "    if os.path.exists(temporary_file):\n",
    "        os.remove(temporary_file)\n",
    "    else:\n",
    "        print(\"The file does not exist\")"
   ]
  },
  {
   "cell_type": "code",
   "execution_count": null,
   "id": "5db31176",
   "metadata": {},
   "outputs": [],
   "source": [
    "frontend_data([\"07\"])\n",
    "# frontend_data([\"08\",\"09\",\"10\",\"11\",\"12\", \"13\"])"
   ]
  },
  {
   "cell_type": "code",
   "execution_count": null,
   "id": "8dac5dd5",
   "metadata": {},
   "outputs": [],
   "source": [
    "# file_name = f\"./storm-frontend-server.log-20200307\"\n",
    "file_name = f\"./prova.txt\"\n",
    "\n",
    "frontend = pd.read_csv(file_name, header= None , engine = 'python', nrows = 1e5, encoding='utf-8', dtype='object')\n",
    "frontend.iloc[1720:1730].to_csv('./prova2.txt', header = None, index = None)\n",
    "print(frontend.iloc[1727])   #[1720:1730])\n",
    "type(frontend[0].iloc[1727])"
   ]
  },
  {
   "cell_type": "code",
   "execution_count": null,
   "id": "e423ccf9",
   "metadata": {},
   "outputs": [],
   "source": [
    "file_name = './storm-frontend-server.log-20200307'\n",
    "with open('./prova.txt', 'w') as fwrite:\n",
    "    with open(file_name, 'r') as fread:\n",
    "        for row in fread:\n",
    "            fwrite.write(row.replace(',', ' '))\n",
    "# frontend = pd.read_csv(f\"../File/FrontendFile/storm-frontend-20200307.txt\")\n",
    "# frontend = pd.read_table(file_name , sep = r'\\,|\\t' , engine='python', header= None , nrows = 1e5,\n",
    "#                                  encoding='utf-8')\n",
    "# frontend.to_csv(\"tempo.txt\", header=False , index=False)"
   ]
  },
  {
   "cell_type": "code",
   "execution_count": null,
   "id": "6ae37936",
   "metadata": {},
   "outputs": [],
   "source": [
    "frontend.dtypes"
   ]
  },
  {
   "cell_type": "code",
   "execution_count": null,
   "id": "989a4ca4",
   "metadata": {},
   "outputs": [],
   "source": [
    "# for i in frontend.index :\n",
    "#     if frontend.time[i] == '03:19:30.240' :\n",
    "#         print(frontend[i])\n"
   ]
  }
 ],
 "metadata": {
  "kernelspec": {
   "display_name": "Python 3 (ipykernel)",
   "language": "python",
   "name": "python3"
  },
  "language_info": {
   "codemirror_mode": {
    "name": "ipython",
    "version": 3
   },
   "file_extension": ".py",
   "mimetype": "text/x-python",
   "name": "python",
   "nbconvert_exporter": "python",
   "pygments_lexer": "ipython3",
   "version": "3.10.4"
  }
 },
 "nbformat": 4,
 "nbformat_minor": 5
}
