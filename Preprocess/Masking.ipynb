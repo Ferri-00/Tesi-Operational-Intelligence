{
 "cells": [
  {
   "cell_type": "code",
   "execution_count": 1,
   "id": "bfff558f",
   "metadata": {},
   "outputs": [],
   "source": [
    "import ipaddress as ip\n",
    "import pandas as pd\n",
    "import re"
   ]
  },
  {
   "cell_type": "raw",
   "id": "b5b716ca",
   "metadata": {},
   "source": [
    "file_name = \"./storm-frontend-20200307.txt\"\n",
    "\n",
    "data = pd.read_csv(file_name, nrows=-1)\n",
    "\n",
    "temp = data.Content.str.split(' ', expand=True)\n",
    "\n",
    "for i in temp.index:\n",
    "    for j in temp.iloc[i].index:\n",
    "        try:\n",
    "            ip.IPv6Address(temp.iloc[i,j])\n",
    "            temp.iloc[i,j] = 'IP'\n",
    "        except ValueError:\n",
    "            continue    \n",
    "            \n",
    "temp2 = pd.DataFrame({'col1' : [0]*len(temp)})\n",
    "for i in temp.index:\n",
    "    message = ''\n",
    "    for word in temp.iloc[i]:\n",
    "        if word != None:\n",
    "            message += str(word)\n",
    "            message += ' '\n",
    "    temp2.iloc[i] = message\n",
    "temp = temp2.copy()\n",
    "\n",
    "data.Content = temp\n",
    "data.to_csv(\".\\storm-frontend-20200307-mask.txt\", index=False)"
   ]
  },
  {
   "cell_type": "raw",
   "id": "5d510672",
   "metadata": {},
   "source": [
    "temp.iloc[4]"
   ]
  },
  {
   "cell_type": "raw",
   "id": "c381c594",
   "metadata": {},
   "source": [
    "# temp = data.Content.str.split('IP=\\'', expand=True)\n",
    "\n",
    "temp = temp.split('. ', expand=True)\n",
    "# print(temp)"
   ]
  },
  {
   "cell_type": "code",
   "execution_count": 6,
   "id": "0d06643b",
   "metadata": {},
   "outputs": [],
   "source": [
    "print_comparison = True"
   ]
  },
  {
   "cell_type": "code",
   "execution_count": 7,
   "id": "a7a4417e",
   "metadata": {
    "scrolled": true
   },
   "outputs": [
    {
     "name": "stdout",
     "output_type": "stream",
     "text": [
      "Request 'PTG status' from Client IP='2001:1458:d00:a::100:304' Client DN='/DC=ch/DC=cern/OU=Organic Units/OU=Users/CN=ddmadmin/CN=531497/CN=Robot: ATLAS Data Management' # Requested token 'b552d088-8af1-4edb-9b51-20cc963bf59e'\n",
      "\n",
      "Result for request 'PTG status' is 'SRM_SUCCESS'\n",
      "\n",
      "Request 'PTP status' from Client IP='2001:1458:d00:a::100:304' Client DN='/DC=ch/DC=cern/OU=Organic Units/OU=Users/CN=ddmadmin/CN=531497/CN=Robot: ATLAS Data Management' # Requested token '08869d38-da7d-41dc-8da7-ccc27d3866fc'\n",
      "\n",
      "Result for request 'PTP status' is 'SRM_SUCCESS'\n",
      "\n",
      "process_request : Connection from 2001:6b0:17:180::2:2\n",
      "\n",
      "+++++++++++++++++++++++++++++++++++++++++++++++++++++++\n",
      "Request 'PTG status' from Client IP='IP' Client DN='/DC=ch/DC=cern/OU=Organic Units/OU=Users/CN=ddmadmin/CN=531497/CN=Robot: ATLAS Data Management' # Requested token 'b552d088-8af1-4edb-9b51-20cc963bf59e'\n",
      "\n",
      "Result for request 'PTG status' is 'SRM_SUCCESS'\n",
      "\n",
      "Request 'PTP status' from Client IP='IP' Client DN='/DC=ch/DC=cern/OU=Organic Units/OU=Users/CN=ddmadmin/CN=531497/CN=Robot: ATLAS Data Management' # Requested token '08869d38-da7d-41dc-8da7-ccc27d3866fc'\n",
      "\n",
      "Result for request 'PTP status' is 'SRM_SUCCESS'\n",
      "\n",
      "process_request : Connection fromIP:2\n",
      "\n"
     ]
    }
   ],
   "source": [
    "file_name = \"./storm-frontend-20200307.txt\"\n",
    "\n",
    "ipv4_address = re.compile(r'((25[0-5]|(2[0-4]|1{0,1}[0-9]){0,1}[0-9])\\.){3,3}(25[0-5]|(2[0-4]|1{0,1}[0-9]){0,1}[0-9])')\n",
    "ipv6_address = re.compile(r'(([0-9a-fA-F]{1,4}:){7,7}[0-9a-fA-F]{1,4}|([0-9a-fA-F]{1,4}:){1,7}: | ([0-9a-fA-F]{1,4}:){1,6}:[0-9a-fA-F]{1,4}|([0-9a-fA-F]{1,4}:){1,5}(:[0-9a-fA-F]{1,4}){1,2}|([0-9a-fA-F]{1,4}:){1,4}(:[0-9a-fA-F]{1,4}){1,3}|([0-9a-fA-F]{1,4}:){1,3}(:[0-9a-fA-F]{1,4}){1,4}|([0-9a-fA-F]{1,4}:){1,2}(:[0-9a-fA-F]{1,4}){1,5}|[0-9a-fA-F]{1,4}:((:[0-9a-fA-F]{1,4}){1,6})|:((:[0-9a-fA-F]{1,4}){1,7}|:)|[fF][eE]80:(:[0-9a-fA-F]{0,4}){0,4}%[0-9a-zA-Z]{1,}|::([fF]{4}(:0{1,4}){0,1}:){0,1}((25[0-5]|(2[0-4]|1{0,1}[0-9]){0,1}[0-9])\\.){3,3}(25[0-5]|(2[0-4]|1{0,1}[0-9]){0,1}[0-9])|([0-9a-fA-F]{1,4}:){1,4}:((25[0-5]|(2[0-4]|1{0,1}[0-9]){0,1}[0-9])\\.){3,3}(25[0-5]|(2[0-4]|1{0,1}[0-9]){0,1}[0-9]))')\n",
    "\n",
    "# IPV4SEG  = f'(25[0-5]|(2[0-4]|1{0,1}[0-9]){0,1}[0-9])'\n",
    "# IPV4ADDR = f'({IPV4SEG}\\.){3,3}{IPV4SEG}'\n",
    "# IPV6SEG  = f'[0-9a-fA-F]{1,4}'\n",
    "# IPV6ADDR = f'(({IPV6SEG}:){7,7}{IPV6SEG}|({IPV6SEG}:){1,7}:|({IPV6SEG}:){1,6}:{IPV6SEG}|({IPV6SEG}:){1,5}(:{IPV6SEG}){1,2}|({IPV6SEG}:){1,4}(:{IPV6SEG}){1,3}|({IPV6SEG}:){1,3}(:{IPV6SEG}){1,4}|({IPV6SEG}:){1,2}(:{IPV6SEG}){1,5}|{IPV6SEG}:((:{IPV6SEG}){1,6})|:((:{IPV6SEG}){1,7}|:)|fe80:(:{IPV6SEG}){0,4}%[0-9a-zA-Z]{1,}|::(ffff(:0{1,4}){0,1}:){0,1}{IPV4ADDR}|({IPV6SEG}:){1,4}:{IPV4ADDR})'\n",
    "# ipv6_address = re.compile((IPV6ADDR))\n",
    "\n",
    "# 2001:1458:201:e3::100:1c\n",
    "# 2001:1458:201:e4::100:245\n",
    "# 2001:1458:d00:14::162\n",
    "# 2620:0:210:1::1d\n",
    "\n",
    "data = pd.read_csv(file_name, nrows=1e4)\n",
    "f = data.message\n",
    "\n",
    "if print_comparison:\n",
    "    for line in f[25:30]:\n",
    "        print(line)\n",
    "        print()\n",
    "\n",
    "    print('+++++++++++++++++++++++++++++++++++++++++++++++++++++++')\n",
    "\n",
    "specific_substitute = 'IP'\n",
    "\n",
    "for i in f.index:\n",
    "    f[i] = re.sub(ipv6_address, specific_substitute, f[i])\n",
    "#     print(f[i])\n",
    "#     f[i] = re.sub(ipv4_address, specific_substitute, f[i])\n",
    "    \n",
    "if print_comparison:\n",
    "    for line in f[25:30]:\n",
    "        print(line)\n",
    "        print()\n",
    "    \n",
    "data.message = f\n",
    "data.to_csv(\".\\storm-frontend-20200307-mask.txt\", index=False)"
   ]
  },
  {
   "cell_type": "raw",
   "id": "f6f01e5d",
   "metadata": {},
   "source": [
    "for i in temp.index:\n",
    "    for j in temp.iloc[i].index:\n",
    "        print(temp.iloc[i][j])\n",
    "        print('++++++++++++++++++')\n",
    "        "
   ]
  },
  {
   "cell_type": "raw",
   "id": "f6982422",
   "metadata": {},
   "source": [
    "temp = data.Content.str.split(' ', expand=True)\n",
    "temp"
   ]
  },
  {
   "cell_type": "raw",
   "id": "5a8af473",
   "metadata": {},
   "source": [
    "for i in [\"Variable\", \"x is not\", \"defined\"]:\n",
    "    try:\n",
    "        print(i)\n",
    "        ip.IPv6Address(i)\n",
    "    except ValueError:\n",
    "        print(\"Error\")"
   ]
  },
  {
   "cell_type": "raw",
   "id": "a2cdcca3",
   "metadata": {},
   "source": [
    "ip.IPv4Address('100:1c')"
   ]
  },
  {
   "cell_type": "raw",
   "id": "fb7f705c",
   "metadata": {},
   "source": [
    "ip.IPv6Address('94ac3a7e-2ef0-4593-bf0f-58067f37362b')"
   ]
  }
 ],
 "metadata": {
  "kernelspec": {
   "display_name": "Python 3 (ipykernel)",
   "language": "python",
   "name": "python3"
  },
  "language_info": {
   "codemirror_mode": {
    "name": "ipython",
    "version": 3
   },
   "file_extension": ".py",
   "mimetype": "text/x-python",
   "name": "python",
   "nbconvert_exporter": "python",
   "pygments_lexer": "ipython3",
   "version": "3.9.7"
  }
 },
 "nbformat": 4,
 "nbformat_minor": 5
}
