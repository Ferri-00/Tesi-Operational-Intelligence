{
 "cells": [
  {
   "cell_type": "code",
   "execution_count": 14,
   "id": "eb0990fb",
   "metadata": {},
   "outputs": [],
   "source": [
    "a = list(set('abc'))"
   ]
  },
  {
   "cell_type": "code",
   "execution_count": 20,
   "id": "20914dc1",
   "metadata": {},
   "outputs": [],
   "source": [
    "import pandas as pd\n",
    "import numpy as np"
   ]
  },
  {
   "cell_type": "code",
   "execution_count": 13,
   "id": "9494b956",
   "metadata": {},
   "outputs": [
    {
     "data": {
      "text/plain": [
       "['b', 'c', 'a']"
      ]
     },
     "execution_count": 13,
     "metadata": {},
     "output_type": "execute_result"
    }
   ],
   "source": [
    "a"
   ]
  },
  {
   "cell_type": "code",
   "execution_count": 35,
   "id": "7aacb272",
   "metadata": {},
   "outputs": [],
   "source": [
    "a = str(pd.Series([1, 2, 3]).array)"
   ]
  },
  {
   "cell_type": "code",
   "execution_count": 36,
   "id": "de45ceb5",
   "metadata": {},
   "outputs": [
    {
     "data": {
      "text/plain": [
       "'<PandasArray>\\n[1, 2, 3]\\nLength: 3, dtype: int64'"
      ]
     },
     "execution_count": 36,
     "metadata": {},
     "output_type": "execute_result"
    }
   ],
   "source": [
    "a"
   ]
  },
  {
   "cell_type": "code",
   "execution_count": null,
   "id": "fbbfaf54",
   "metadata": {},
   "outputs": [],
   "source": []
  },
  {
   "cell_type": "code",
   "execution_count": null,
   "id": "099fe9a5",
   "metadata": {},
   "outputs": [],
   "source": []
  }
 ],
 "metadata": {
  "kernelspec": {
   "display_name": "Python 3 (ipykernel)",
   "language": "python",
   "name": "python3"
  },
  "language_info": {
   "codemirror_mode": {
    "name": "ipython",
    "version": 3
   },
   "file_extension": ".py",
   "mimetype": "text/x-python",
   "name": "python",
   "nbconvert_exporter": "python",
   "pygments_lexer": "ipython3",
   "version": "3.10.4"
  }
 },
 "nbformat": 4,
 "nbformat_minor": 5
}
