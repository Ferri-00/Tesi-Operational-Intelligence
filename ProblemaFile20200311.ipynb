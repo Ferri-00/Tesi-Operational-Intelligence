{
 "cells": [
  {
   "cell_type": "code",
   "execution_count": 7,
   "id": "084cebb4",
   "metadata": {},
   "outputs": [],
   "source": [
    "import pandas as pd\n",
    "import os\n",
    "\n",
    "temporary_file = './temporaryFile.csv'  \n",
    "file_name = f\".\\logs_7-13march\\storm-atlas-1\\storm-frontend-server.log-20200311.gz\""
   ]
  },
  {
   "cell_type": "code",
   "execution_count": 8,
   "id": "1d355081",
   "metadata": {},
   "outputs": [],
   "source": [
    "frontend = pd.read_table(file_name , sep = \" -  \" , header= None , engine = 'python')"
   ]
  },
  {
   "cell_type": "code",
   "execution_count": 9,
   "id": "66748a94",
   "metadata": {},
   "outputs": [],
   "source": [
    "for v, i in zip(frontend[1], frontend.index):\n",
    "    if v == None:\n",
    "        frontend = frontend.drop(labels=i, axis=0)"
   ]
  },
  {
   "cell_type": "code",
   "execution_count": 10,
   "id": "c501c8fe",
   "metadata": {},
   "outputs": [],
   "source": [
    "frontend[0].to_csv(temporary_file , header=False , index=False)"
   ]
  },
  {
   "cell_type": "code",
   "execution_count": 12,
   "id": "743220d5",
   "metadata": {},
   "outputs": [],
   "source": [
    "temporary = pd.read_table(temporary_file , sep=None , header=None , engine='python' , dtype = str )"
   ]
  },
  {
   "cell_type": "code",
   "execution_count": 14,
   "id": "eda68eab",
   "metadata": {},
   "outputs": [],
   "source": [
    "temporary[0] = temporary[0] + ' ' + temporary[1]"
   ]
  },
  {
   "cell_type": "code",
   "execution_count": 15,
   "id": "eca05d5e",
   "metadata": {},
   "outputs": [],
   "source": [
    "temporary[1] = temporary[2] + ' ' + temporary[3]"
   ]
  },
  {
   "cell_type": "code",
   "execution_count": 16,
   "id": "440904a0",
   "metadata": {},
   "outputs": [],
   "source": [
    "frontend[1].to_csv(temporary_file , header=False , index=False)"
   ]
  },
  {
   "cell_type": "code",
   "execution_count": 17,
   "id": "ac1cb8fc",
   "metadata": {},
   "outputs": [],
   "source": [
    "frontend = temporary.drop([2,3], axis=1)"
   ]
  },
  {
   "cell_type": "code",
   "execution_count": 18,
   "id": "ea85c293",
   "metadata": {},
   "outputs": [],
   "source": [
    "frontend.columns = [\"datetime\", \"Thread\"]"
   ]
  },
  {
   "cell_type": "code",
   "execution_count": 19,
   "id": "ed2ce56a",
   "metadata": {},
   "outputs": [],
   "source": [
    "temporary = pd.read_table(temporary_file , sep= \"]: \" , header=None , engine='python' , dtype = str )"
   ]
  },
  {
   "cell_type": "code",
   "execution_count": 20,
   "id": "200fec64",
   "metadata": {},
   "outputs": [],
   "source": [
    "frontend = pd.concat([frontend, temporary[0] + \"]\", temporary[1]], axis=1)"
   ]
  },
  {
   "cell_type": "code",
   "execution_count": 21,
   "id": "279ea283",
   "metadata": {},
   "outputs": [],
   "source": [
    "frontend = frontend.rename(columns={0:\"INFO\", 1:\"message\"})"
   ]
  },
  {
   "cell_type": "code",
   "execution_count": 23,
   "id": "0bbd05b6",
   "metadata": {},
   "outputs": [],
   "source": [
    "frontend.to_csv(f\".\\FrontendFile\\storm-frontend-20200311.txt\" , index=False)"
   ]
  }
 ],
 "metadata": {
  "kernelspec": {
   "display_name": "Python 3 (ipykernel)",
   "language": "python",
   "name": "python3"
  },
  "language_info": {
   "codemirror_mode": {
    "name": "ipython",
    "version": 3
   },
   "file_extension": ".py",
   "mimetype": "text/x-python",
   "name": "python",
   "nbconvert_exporter": "python",
   "pygments_lexer": "ipython3",
   "version": "3.9.7"
  }
 },
 "nbformat": 4,
 "nbformat_minor": 5
}
