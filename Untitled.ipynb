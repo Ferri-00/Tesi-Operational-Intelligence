{
 "cells": [
  {
   "cell_type": "code",
   "execution_count": 1,
   "id": "fefd86af",
   "metadata": {},
   "outputs": [],
   "source": [
    "# import libraries\n",
    "from __future__ import print_function\n",
    "\n",
    "import pandas as pd\n",
    "import numpy as np\n",
    "\n",
    "import matplotlib.colors as mcolors\n",
    "import matplotlib.pyplot as plt\n",
    "\n",
    "from collections import Counter, defaultdict\n",
    "\n",
    "import time\n",
    "\n",
    "from sklearn.datasets import fetch_20newsgroups\n",
    "from sklearn.decomposition import TruncatedSVD\n",
    "from sklearn.feature_extraction.text import TfidfVectorizer\n",
    "from sklearn.feature_extraction.text import HashingVectorizer\n",
    "from sklearn.feature_extraction.text import TfidfTransformer\n",
    "from sklearn.pipeline import make_pipeline\n",
    "from sklearn.preprocessing import Normalizer\n",
    "from sklearn import metrics\n",
    "\n",
    "from sklearn.cluster import KMeans, MiniBatchKMeans\n",
    "\n",
    "import logging\n",
    "from optparse import OptionParser\n",
    "import sys\n",
    "from time import time\n",
    "\n",
    "# Display all cell outputs\n",
    "from IPython.core.interactiveshell import InteractiveShell\n",
    "InteractiveShell.ast_node_interactivity = 'all'\n",
    "\n",
    "from IPython import get_ipython\n",
    "ipython = get_ipython()\n",
    "\n",
    "# autoreload extension\n",
    "# if 'autoreload' not in ipython.extension_manager.loaded:\n",
    "#     get_ipython().run_line_magic('load_ext', 'autoreload')\n",
    "\n",
    "# get_ipython().run_line_magic('autoreload', '2')\n",
    "\n",
    "# Visualizations\n",
    "import seaborn as sns"
   ]
  },
  {
   "cell_type": "code",
   "execution_count": 2,
   "id": "632f0a61",
   "metadata": {},
   "outputs": [
    {
     "name": "stdout",
     "output_type": "stream",
     "text": [
      "We have 10000 logs messages, for a total of 10363 unique tokens adopted.\n",
      "Warning: there are 0 blanck messages which will be excluded from the analysis.\n",
      "Extracting features from the training dataset using a sparse vectorizer\n",
      "done in 0.993750s\n",
      "n_samples: 10000, n_features: 107\n",
      "\n",
      "Performing dimensionality reduction using LSA\n",
      "done in 0.267421s\n",
      "Explained variance of the SVD step: 85%\n",
      "\n"
     ]
    }
   ],
   "source": [
    "v = '11'\n",
    "file_name = f\"../File/FrontendFileGroup/storm-frontend-202003{v}-mask-group.txt\"\n",
    "\n",
    "logs = pd.read_csv(file_name, index_col=0, nrows=1e4)\n",
    "\n",
    "tokens_per_message = [x.lower().split() for x in logs.message]\n",
    "\n",
    "word_set = set()\n",
    "for mess in tokens_per_message:\n",
    "    word_set = word_set.union(set(mess))\n",
    "\n",
    "print(\"We have {} logs messages, for a total of {} unique tokens adopted.\".format(\n",
    "    len(tokens_per_message), len(word_set)))\n",
    "\n",
    "\n",
    "word_dict = [dict.fromkeys(word_set, 0) for i in range(len(tokens_per_message))]\n",
    "\n",
    "# Compute raw frequencies of each token per each message\n",
    "for i in range(len(logs.message)):\n",
    "    for word in tokens_per_message[i]:\n",
    "        word_dict[i][word] += 1\n",
    "\n",
    "c = 0\n",
    "for i, dic in enumerate(tokens_per_message):\n",
    "    if not len(dic):\n",
    "        print(i, errors.loc[i])\n",
    "        c += 1\n",
    "\n",
    "print(\"Warning: there are {} blanck messages which will be excluded from the analysis.\".format(c))\n",
    "\n",
    "def compute_tf(word_dict, l): # l is the message from logs\n",
    "    tf = {}\n",
    "    sum_nk = len(l)\n",
    "    for word, count in word_dict.items():\n",
    "        try:\n",
    "            tf[word] = count/sum_nk\n",
    "        except ZeroDivisionError:\n",
    "            tf[word] = 0\n",
    "    return tf\n",
    "\n",
    "tf = [compute_tf(word_dict[i], tokens_per_message[i])\n",
    "      for i in range(len(tokens_per_message))] #if sum(word_dict[i].values())]\n",
    "\n",
    "def compute_idf(strings_list):\n",
    "    n = len(strings_list)\n",
    "    idf = dict.fromkeys(strings_list[0].keys(), 0)\n",
    "    for l in strings_list:\n",
    "        for word, count in l.items():\n",
    "            if count > 0:\n",
    "                idf[word] += 1\n",
    "\n",
    "    for word, v in idf.items():\n",
    "        idf[word] = np.log(n / float(v))\n",
    "    return idf\n",
    "\n",
    "idf = compute_idf(word_dict)\n",
    "\n",
    "def compute_tf_idf(tf, idf):\n",
    "    tf_idf = dict.fromkeys(tf.keys(), 0)\n",
    "    for word, v in tf.items():\n",
    "        tf_idf[word] = v * idf[word]\n",
    "    return tf_idf\n",
    "\n",
    "tf_idf =  [compute_tf_idf(tf[i], idf) for i in range(len(tf))]\n",
    "\n",
    "# Extract TF-IDF information\n",
    "print(\"Extracting features from the training dataset using a sparse vectorizer\")\n",
    "t0 = time()\n",
    "vectorizer = TfidfVectorizer(max_df=0.8, min_df=0.02, stop_words='english',\n",
    "                             use_idf=True)\n",
    "# vectorizer = TfidfVectorizer(stop_words='english',\n",
    "#                              use_idf=True)\n",
    "X = vectorizer.fit_transform(logs.message)\n",
    "\n",
    "print(\"done in %fs\" % (time() - t0))\n",
    "print(\"n_samples: %d, n_features: %d\" % X.shape)\n",
    "print()\n",
    "\n",
    "# Apply LSA for dimensionality reduction to get a lower-dimensional embedding space\n",
    "print(\"Performing dimensionality reduction using LSA\")\n",
    "t0 = time()\n",
    "\n",
    "# Vectorizer results are normalized, which makes KMeans behave as\n",
    "# spherical k-means for better results. Since LSA/SVD results are\n",
    "# not normalized, we have to redo the normalization.\n",
    "svd = TruncatedSVD(25)\n",
    "normalizer = Normalizer(copy=False)\n",
    "lsa = make_pipeline(svd, normalizer)\n",
    "\n",
    "X = lsa.fit_transform(X)\n",
    "\n",
    "print(\"done in %fs\" % (time() - t0))\n",
    "\n",
    "explained_variance = svd.explained_variance_ratio_.sum()\n",
    "print(\"Explained variance of the SVD step: {}%\".format(\n",
    "    int(explained_variance * 100)))\n",
    "\n",
    "print()"
   ]
  },
  {
   "cell_type": "code",
   "execution_count": 3,
   "id": "ac925910",
   "metadata": {},
   "outputs": [],
   "source": [
    "start = 10\n",
    "stop = 50\n",
    "step = 2"
   ]
  },
  {
   "cell_type": "raw",
   "id": "8c41050c",
   "metadata": {},
   "source": [
    "labels = np.arange(0, stop)\n",
    "counts = []\n",
    "cluster = []\n",
    "\n",
    "for n_clusters in range(start, stop, step):\n",
    "    cluster += [n_clusters]\n",
    "    # run K-Means algorithm: 6 clusters\n",
    "    km = KMeans(n_clusters=n_clusters, \n",
    "                init='k-means++', \n",
    "                max_iter=500, \n",
    "                n_init=100,\n",
    "                verbose=1\n",
    "               )\n",
    "\n",
    "    print(\"Clustering sparse data with %s\" % km)\n",
    "    t0 = time()\n",
    "    km.fit(X)\n",
    "    print(\"done in %0.3fs\" % (time() - t0))\n",
    "    print()\n",
    "\n",
    "    print(\"We have {} centroids represented as {}-dimensional points.\".format(km.cluster_centers_.shape[0],\n",
    "                                                                              km.cluster_centers_.shape[1]))\n",
    "    # print the numerosity of each cluster\n",
    "    print(Counter(km.labels_))\n",
    "\n",
    "    logs[\"kmean_labels\"] = km.labels_\n",
    "\n",
    "    label = np.unique(km.labels_)\n",
    "    count = [Counter(km.labels_)[i] for i in label]\n",
    "\n",
    "#             plt.style.use('_mpl-gallery')\n",
    "\n",
    "    # plot:\n",
    "    fig, ax = plt.subplots(figsize = (8, n_clusters/2))\n",
    "\n",
    "    for l, c in zip(label, count):\n",
    "        ax.barh(l, c, linewidth=0.5, edgecolor=\"white\", label=logs.message[logs.kmean_labels==l][0])\n",
    "        ax.text(c, l-0.35, logs.message[logs.kmean_labels==l][0][:30]+'\\n'+logs.message[logs.kmean_labels==l][0][30:60])\n",
    "\n",
    "    with open(f'./BestCentroid/frontend-202003{v}-{n_clusters}centroids.txt', 'w') as fwrite:\n",
    "        for l in label:\n",
    "            fwrite.write(f'Label {l}:\\n')\n",
    "            for i in range(5):\n",
    "                fwrite.write(logs.message[logs.kmean_labels==l][i])\n",
    "                fwrite.write('\\n')\n",
    "            fwrite.write('\\n')\n",
    "            \n",
    "    ax.set(yticks=label)\n",
    "\n",
    "    plt.title(f'frontend-202003{v}-{n_clusters}centroids')\n",
    "\n",
    "    counts += [np.sort(count)]\n",
    "\n",
    "    plt.savefig(f'./BestCentroid/frontend-202003{v}-{n_clusters}centroids', bbox_inches =\"tight\")"
   ]
  },
  {
   "cell_type": "raw",
   "id": "c34036e7",
   "metadata": {},
   "source": [
    "# plot:\n",
    "fig, ax = plt.subplots(figsize = (8, 5))\n",
    "color = list(mcolors.CSS4_COLORS)\n",
    "#         color = list(mcolors.TABLEAU_COLORS)\n",
    "\n",
    "print('complete counts for all labels')\n",
    "for c in range(len(counts)):\n",
    "    for i in range(len(labels) - len(counts[c])):\n",
    "        counts[c] += [0]\n",
    "print('plot variation of granularity of plots')       \n",
    "\n",
    "print('lunghezza cluster:', len(cluster))\n",
    "print('lunghezza counts:', len(counts))\n",
    "print('lunghezza singoli counts:', len(counts[1]))\n",
    "\n",
    "col=20\n",
    "for l in labels:\n",
    "    ax.plot(cluster, [counts[i][l] for i in range(len(cluster))], '-', color=color[col], label=str(l)+' '+color[col])\n",
    "    col+=1\n",
    "\n",
    "ax.set(xticks=label)\n",
    "\n",
    "ax.legend()\n",
    "plt.title(f'BestCentroid/frontend-202003{v}-best_centroids-{start}-{stop}-{step}')\n",
    "plt.savefig(f'BestCentroid/frontend-202003{v}_best_centroids', bbox_inches =\"tight\")"
   ]
  },
  {
   "cell_type": "code",
   "execution_count": 4,
   "id": "2505db8b",
   "metadata": {},
   "outputs": [
    {
     "name": "stdout",
     "output_type": "stream",
     "text": [
      "Clustering sparse data with KMeans(max_iter=500, n_clusters=10, n_init=100)\n"
     ]
    },
    {
     "data": {
      "text/plain": [
       "KMeans(max_iter=500, n_clusters=10, n_init=100)"
      ]
     },
     "execution_count": 4,
     "metadata": {},
     "output_type": "execute_result"
    },
    {
     "name": "stdout",
     "output_type": "stream",
     "text": [
      "done in 2.147s\n",
      "\n",
      "We have 10 centroids represented as 25-dimensional points.\n",
      "Clustering sparse data with KMeans(max_iter=500, n_clusters=12, n_init=100)\n"
     ]
    },
    {
     "data": {
      "text/plain": [
       "KMeans(max_iter=500, n_clusters=12, n_init=100)"
      ]
     },
     "execution_count": 4,
     "metadata": {},
     "output_type": "execute_result"
    },
    {
     "name": "stdout",
     "output_type": "stream",
     "text": [
      "done in 2.913s\n",
      "\n",
      "We have 12 centroids represented as 25-dimensional points.\n",
      "Clustering sparse data with KMeans(max_iter=500, n_clusters=14, n_init=100)\n"
     ]
    },
    {
     "data": {
      "text/plain": [
       "KMeans(max_iter=500, n_clusters=14, n_init=100)"
      ]
     },
     "execution_count": 4,
     "metadata": {},
     "output_type": "execute_result"
    },
    {
     "name": "stdout",
     "output_type": "stream",
     "text": [
      "done in 3.133s\n",
      "\n",
      "We have 14 centroids represented as 25-dimensional points.\n",
      "Clustering sparse data with KMeans(max_iter=500, n_clusters=16, n_init=100)\n"
     ]
    },
    {
     "data": {
      "text/plain": [
       "KMeans(max_iter=500, n_clusters=16, n_init=100)"
      ]
     },
     "execution_count": 4,
     "metadata": {},
     "output_type": "execute_result"
    },
    {
     "name": "stdout",
     "output_type": "stream",
     "text": [
      "done in 3.649s\n",
      "\n",
      "We have 16 centroids represented as 25-dimensional points.\n",
      "Clustering sparse data with KMeans(max_iter=500, n_clusters=18, n_init=100)\n"
     ]
    },
    {
     "data": {
      "text/plain": [
       "KMeans(max_iter=500, n_clusters=18, n_init=100)"
      ]
     },
     "execution_count": 4,
     "metadata": {},
     "output_type": "execute_result"
    },
    {
     "name": "stdout",
     "output_type": "stream",
     "text": [
      "done in 4.132s\n",
      "\n",
      "We have 18 centroids represented as 25-dimensional points.\n",
      "Clustering sparse data with KMeans(max_iter=500, n_clusters=20, n_init=100)\n"
     ]
    },
    {
     "data": {
      "text/plain": [
       "KMeans(max_iter=500, n_clusters=20, n_init=100)"
      ]
     },
     "execution_count": 4,
     "metadata": {},
     "output_type": "execute_result"
    },
    {
     "name": "stdout",
     "output_type": "stream",
     "text": [
      "done in 4.617s\n",
      "\n",
      "We have 20 centroids represented as 25-dimensional points.\n",
      "Clustering sparse data with KMeans(max_iter=500, n_clusters=22, n_init=100)\n"
     ]
    },
    {
     "data": {
      "text/plain": [
       "KMeans(max_iter=500, n_clusters=22, n_init=100)"
      ]
     },
     "execution_count": 4,
     "metadata": {},
     "output_type": "execute_result"
    },
    {
     "name": "stdout",
     "output_type": "stream",
     "text": [
      "done in 5.283s\n",
      "\n",
      "We have 22 centroids represented as 25-dimensional points.\n",
      "Clustering sparse data with KMeans(max_iter=500, n_clusters=24, n_init=100)\n"
     ]
    },
    {
     "data": {
      "text/plain": [
       "KMeans(max_iter=500, n_clusters=24, n_init=100)"
      ]
     },
     "execution_count": 4,
     "metadata": {},
     "output_type": "execute_result"
    },
    {
     "name": "stdout",
     "output_type": "stream",
     "text": [
      "done in 5.076s\n",
      "\n",
      "We have 24 centroids represented as 25-dimensional points.\n",
      "Clustering sparse data with KMeans(max_iter=500, n_clusters=26, n_init=100)\n"
     ]
    },
    {
     "data": {
      "text/plain": [
       "KMeans(max_iter=500, n_clusters=26, n_init=100)"
      ]
     },
     "execution_count": 4,
     "metadata": {},
     "output_type": "execute_result"
    },
    {
     "name": "stdout",
     "output_type": "stream",
     "text": [
      "done in 5.353s\n",
      "\n",
      "We have 26 centroids represented as 25-dimensional points.\n",
      "Clustering sparse data with KMeans(max_iter=500, n_clusters=28, n_init=100)\n"
     ]
    },
    {
     "data": {
      "text/plain": [
       "KMeans(max_iter=500, n_clusters=28, n_init=100)"
      ]
     },
     "execution_count": 4,
     "metadata": {},
     "output_type": "execute_result"
    },
    {
     "name": "stdout",
     "output_type": "stream",
     "text": [
      "done in 5.755s\n",
      "\n",
      "We have 28 centroids represented as 25-dimensional points.\n",
      "Clustering sparse data with KMeans(max_iter=500, n_clusters=30, n_init=100)\n"
     ]
    },
    {
     "data": {
      "text/plain": [
       "KMeans(max_iter=500, n_clusters=30, n_init=100)"
      ]
     },
     "execution_count": 4,
     "metadata": {},
     "output_type": "execute_result"
    },
    {
     "name": "stdout",
     "output_type": "stream",
     "text": [
      "done in 6.313s\n",
      "\n",
      "We have 30 centroids represented as 25-dimensional points.\n",
      "Clustering sparse data with KMeans(max_iter=500, n_clusters=32, n_init=100)\n"
     ]
    },
    {
     "data": {
      "text/plain": [
       "KMeans(max_iter=500, n_clusters=32, n_init=100)"
      ]
     },
     "execution_count": 4,
     "metadata": {},
     "output_type": "execute_result"
    },
    {
     "name": "stdout",
     "output_type": "stream",
     "text": [
      "done in 7.070s\n",
      "\n",
      "We have 32 centroids represented as 25-dimensional points.\n",
      "Clustering sparse data with KMeans(max_iter=500, n_clusters=34, n_init=100)\n"
     ]
    },
    {
     "data": {
      "text/plain": [
       "KMeans(max_iter=500, n_clusters=34, n_init=100)"
      ]
     },
     "execution_count": 4,
     "metadata": {},
     "output_type": "execute_result"
    },
    {
     "name": "stdout",
     "output_type": "stream",
     "text": [
      "done in 6.976s\n",
      "\n",
      "We have 34 centroids represented as 25-dimensional points.\n",
      "Clustering sparse data with KMeans(max_iter=500, n_clusters=36, n_init=100)\n"
     ]
    },
    {
     "data": {
      "text/plain": [
       "KMeans(max_iter=500, n_clusters=36, n_init=100)"
      ]
     },
     "execution_count": 4,
     "metadata": {},
     "output_type": "execute_result"
    },
    {
     "name": "stdout",
     "output_type": "stream",
     "text": [
      "done in 7.222s\n",
      "\n",
      "We have 36 centroids represented as 25-dimensional points.\n",
      "Clustering sparse data with KMeans(max_iter=500, n_clusters=38, n_init=100)\n"
     ]
    },
    {
     "data": {
      "text/plain": [
       "KMeans(max_iter=500, n_clusters=38, n_init=100)"
      ]
     },
     "execution_count": 4,
     "metadata": {},
     "output_type": "execute_result"
    },
    {
     "name": "stdout",
     "output_type": "stream",
     "text": [
      "done in 7.644s\n",
      "\n",
      "We have 38 centroids represented as 25-dimensional points.\n",
      "Clustering sparse data with KMeans(max_iter=500, n_clusters=40, n_init=100)\n"
     ]
    },
    {
     "data": {
      "text/plain": [
       "KMeans(max_iter=500, n_clusters=40, n_init=100)"
      ]
     },
     "execution_count": 4,
     "metadata": {},
     "output_type": "execute_result"
    },
    {
     "name": "stdout",
     "output_type": "stream",
     "text": [
      "done in 8.804s\n",
      "\n",
      "We have 40 centroids represented as 25-dimensional points.\n",
      "Clustering sparse data with KMeans(max_iter=500, n_clusters=42, n_init=100)\n"
     ]
    },
    {
     "data": {
      "text/plain": [
       "KMeans(max_iter=500, n_clusters=42, n_init=100)"
      ]
     },
     "execution_count": 4,
     "metadata": {},
     "output_type": "execute_result"
    },
    {
     "name": "stdout",
     "output_type": "stream",
     "text": [
      "done in 8.363s\n",
      "\n",
      "We have 42 centroids represented as 25-dimensional points.\n",
      "Clustering sparse data with KMeans(max_iter=500, n_clusters=44, n_init=100)\n"
     ]
    },
    {
     "data": {
      "text/plain": [
       "KMeans(max_iter=500, n_clusters=44, n_init=100)"
      ]
     },
     "execution_count": 4,
     "metadata": {},
     "output_type": "execute_result"
    },
    {
     "name": "stdout",
     "output_type": "stream",
     "text": [
      "done in 9.288s\n",
      "\n",
      "We have 44 centroids represented as 25-dimensional points.\n",
      "Clustering sparse data with KMeans(max_iter=500, n_clusters=46, n_init=100)\n"
     ]
    },
    {
     "data": {
      "text/plain": [
       "KMeans(max_iter=500, n_clusters=46, n_init=100)"
      ]
     },
     "execution_count": 4,
     "metadata": {},
     "output_type": "execute_result"
    },
    {
     "name": "stdout",
     "output_type": "stream",
     "text": [
      "done in 9.936s\n",
      "\n",
      "We have 46 centroids represented as 25-dimensional points.\n",
      "Clustering sparse data with KMeans(max_iter=500, n_clusters=48, n_init=100)\n"
     ]
    },
    {
     "data": {
      "text/plain": [
       "KMeans(max_iter=500, n_clusters=48, n_init=100)"
      ]
     },
     "execution_count": 4,
     "metadata": {},
     "output_type": "execute_result"
    },
    {
     "name": "stdout",
     "output_type": "stream",
     "text": [
      "done in 9.668s\n",
      "\n",
      "We have 48 centroids represented as 25-dimensional points.\n"
     ]
    },
    {
     "data": {
      "text/plain": [
       "[<matplotlib.lines.Line2D at 0x1163bb0b070>]"
      ]
     },
     "execution_count": 4,
     "metadata": {},
     "output_type": "execute_result"
    },
    {
     "data": {
      "text/plain": [
       "Text(0.5, 0, 'Values of K')"
      ]
     },
     "execution_count": 4,
     "metadata": {},
     "output_type": "execute_result"
    },
    {
     "data": {
      "text/plain": [
       "Text(0, 0.5, 'Sum of squared distances/Inertia')"
      ]
     },
     "execution_count": 4,
     "metadata": {},
     "output_type": "execute_result"
    },
    {
     "data": {
      "text/plain": [
       "Text(0.5, 1.0, 'Elbow Method For Optimal k')"
      ]
     },
     "execution_count": 4,
     "metadata": {},
     "output_type": "execute_result"
    },
    {
     "data": {
      "image/png": "[encoded data removed]",
      "text/plain": [
       "<Figure size 432x288 with 1 Axes>"
      ]
     },
     "metadata": {
      "needs_background": "light"
     },
     "output_type": "display_data"
    },
    {
     "data": {
      "text/plain": [
       "[<matplotlib.lines.Line2D at 0x1163bc724c0>]"
      ]
     },
     "execution_count": 4,
     "metadata": {},
     "output_type": "execute_result"
    },
    {
     "data": {
      "text/plain": [
       "Text(0.5, 0, 'Values of K')"
      ]
     },
     "execution_count": 4,
     "metadata": {},
     "output_type": "execute_result"
    },
    {
     "data": {
      "text/plain": [
       "Text(0, 0.5, 'Silhouette score')"
      ]
     },
     "execution_count": 4,
     "metadata": {},
     "output_type": "execute_result"
    },
    {
     "data": {
      "text/plain": [
       "Text(0.5, 1.0, 'Silhouette analysis For Optimal k')"
      ]
     },
     "execution_count": 4,
     "metadata": {},
     "output_type": "execute_result"
    },
    {
     "data": {
      "image/png": "[encoded data removed]",
      "text/plain": [
       "<Figure size 432x288 with 1 Axes>"
      ]
     },
     "metadata": {
      "needs_background": "light"
     },
     "output_type": "display_data"
    }
   ],
   "source": [
    "from sklearn.metrics import silhouette_score\n",
    "\n",
    "labels = np.arange(0, stop)\n",
    "Sum_of_squared_distances = []\n",
    "silhouette_avg = []\n",
    "\n",
    "K = range(start, stop, step)    \n",
    "\n",
    "for n_clusters in K:\n",
    "    # run K-Means algorithm: 6 clusters\n",
    "    km = KMeans(n_clusters=n_clusters, \n",
    "                init='k-means++', \n",
    "                max_iter=500, \n",
    "                n_init=100,\n",
    "#                 verbose=1\n",
    "               )\n",
    "\n",
    "    print(\"Clustering sparse data with %s\" % km)\n",
    "    t0 = time()\n",
    "    km.fit(X)\n",
    "    print(\"done in %0.3fs\" % (time() - t0))\n",
    "    print()\n",
    "\n",
    "    print(\"We have {} centroids represented as {}-dimensional points.\".format(km.cluster_centers_.shape[0],\n",
    "                                                                              km.cluster_centers_.shape[1]))\n",
    "    \n",
    "    Sum_of_squared_distances.append(km.inertia_)\n",
    "    cluster_labels = km.labels_\n",
    "    # silhouette score\n",
    "    silhouette_avg.append(silhouette_score(X, cluster_labels))\n",
    "    \n",
    "    # print the numerosity of each cluster\n",
    "#     print(Counter(km.labels_))\n",
    "\n",
    "    logs[\"kmean_labels\"] = km.labels_\n",
    "\n",
    "    label = np.unique(km.labels_)\n",
    "    count = [Counter(km.labels_)[i] for i in label]\n",
    "\n",
    "    # plot:\n",
    "#     fig, ax = plt.subplots(figsize = (8, n_clusters/2))\n",
    "\n",
    "#     for l, c in zip(label, count):\n",
    "#         ax.barh(l, c, linewidth=0.5, edgecolor=\"white\", label=logs.message[logs.kmean_labels==l][0])\n",
    "#         ax.text(c, l-0.35, logs.message[logs.kmean_labels==l][0][:30]+'\\n'+logs.message[logs.kmean_labels==l][0][30:60])\n",
    "\n",
    "#     with open(f'./BestCentroid/frontend-202003{v}-{n_clusters}centroids.txt', 'w') as fwrite:\n",
    "#         for l in label:\n",
    "#             fwrite.write(f'Label {l}:\\n')\n",
    "#             for i in range(5):\n",
    "#                 fwrite.write(logs.message[logs.kmean_labels==l][i])\n",
    "#                 fwrite.write('\\n')\n",
    "#             fwrite.write('\\n')\n",
    "            \n",
    "#     ax.set(yticks=label)\n",
    "\n",
    "#     plt.title(f'frontend-202003{v}-{n_clusters}centroids')\n",
    "#     plt.savefig(f'./BestCentroid/frontend-202003{v}-{n_clusters}centroids', bbox_inches =\"tight\")\n",
    "\n",
    "plt.plot(K,Sum_of_squared_distances,'bx-')\n",
    "plt.xlabel('Values of K') \n",
    "plt.ylabel('Sum of squared distances/Inertia') \n",
    "plt.title('Elbow Method For Optimal k')\n",
    "plt.savefig(f'./BestCentroid/frontend-202003{v}-squared distances', bbox_inches =\"tight\")\n",
    "plt.show()\n",
    "\n",
    "plt.plot(K,silhouette_avg, 'bx-')\n",
    "plt.xlabel('Values of K') \n",
    "plt.ylabel('Silhouette score') \n",
    "plt.title('Silhouette analysis For Optimal k')\n",
    "plt.savefig(f'./BestCentroid/frontend-202003{v}-silhouette score', bbox_inches =\"tight\")\n",
    "plt.show()"
   ]
  },
  {
   "cell_type": "code",
   "execution_count": 5,
   "id": "ddef4ba4",
   "metadata": {},
   "outputs": [],
   "source": [
    "maxS = max(silhouette_avg[:10])"
   ]
  },
  {
   "cell_type": "code",
   "execution_count": 6,
   "id": "efa16549",
   "metadata": {},
   "outputs": [],
   "source": [
    "indS = silhouette_avg.index(maxS)"
   ]
  },
  {
   "cell_type": "code",
   "execution_count": 7,
   "id": "d412e93e",
   "metadata": {},
   "outputs": [
    {
     "data": {
      "text/plain": [
       "26"
      ]
     },
     "execution_count": 7,
     "metadata": {},
     "output_type": "execute_result"
    }
   ],
   "source": [
    "K[indS]"
   ]
  },
  {
   "cell_type": "code",
   "execution_count": 8,
   "id": "3847cc7f",
   "metadata": {},
   "outputs": [
    {
     "data": {
      "text/plain": [
       "0.5348961966773631"
      ]
     },
     "execution_count": 8,
     "metadata": {},
     "output_type": "execute_result"
    }
   ],
   "source": [
    "silhouette_avg[indS]"
   ]
  },
  {
   "cell_type": "code",
   "execution_count": null,
   "id": "b49e101d",
   "metadata": {},
   "outputs": [],
   "source": []
  }
 ],
 "metadata": {
  "kernelspec": {
   "display_name": "Python 3 (ipykernel)",
   "language": "python",
   "name": "python3"
  },
  "language_info": {
   "codemirror_mode": {
    "name": "ipython",
    "version": 3
   },
   "file_extension": ".py",
   "mimetype": "text/x-python",
   "name": "python",
   "nbconvert_exporter": "python",
   "pygments_lexer": "ipython3",
   "version": "3.9.7"
  }
 },
 "nbformat": 4,
 "nbformat_minor": 5
}
