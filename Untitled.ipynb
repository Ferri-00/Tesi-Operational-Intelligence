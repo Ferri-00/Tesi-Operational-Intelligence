{
 "cells": [
  {
   "cell_type": "code",
   "execution_count": 36,
   "id": "6ca0dcc7",
   "metadata": {},
   "outputs": [],
   "source": [
    "import pandas as pd\n",
    "import time\n",
    "import os\n",
    "\n",
    "def frontend_data(file_number):\n",
    "    temporary_file = './temporaryFile.csv'\n",
    "    \n",
    "    for v in file_number:\n",
    "#         file_name = f\"./logs_7-13march/storm-atlas/storm-frontend-server.log-202003{v}.gz\"\n",
    "        file_name = f\"../logs_7-13march/storm-atlas-1/storm-frontend-server.log-202003{v}.gz\"\n",
    "\n",
    "        print(\"reading \", file_name)\n",
    "        frontend = pd.read_table(file_name , sep = \" -  \" , header= None , engine = 'python', nrows = 1e5)\n",
    "\n",
    "        for w, i in zip(frontend[1], frontend.index):\n",
    "            if w == None:\n",
    "                frontend = frontend.drop(labels=i, axis=0)\n",
    "                print(f\"Line {i} of file \\'{file_name}\\' has been droped\")\n",
    "\n",
    "        frontend[0].to_csv(temporary_file , header=False , index=False)\n",
    "\n",
    "        temporary = pd.read_csv(temporary_file , sep=None , header=None , engine='python')\n",
    "        \n",
    "        temporary[2] = temporary[2].astype(\"string\")\n",
    "        temporary[3] = temporary[3].astype(\"string\")\n",
    "        temporary[2] = temporary[2] + ' ' + temporary[3]\n",
    "\n",
    "        frontend[1].to_csv(temporary_file , header=False , index=False)\n",
    "\n",
    "        frontend = temporary.drop(3, axis=1)\n",
    "        frontend.columns = [\"date\", \"time\", \"PID\"]\n",
    "\n",
    "        temporary = pd.read_table(temporary_file , sep= \"]: \" , header=None , engine='python')\n",
    "\n",
    "        frontend = pd.concat([frontend, temporary[0], temporary[1]], axis=1)\n",
    "        frontend = frontend.rename(columns={0:\"Level\", 1:\"message\"})\n",
    "        \n",
    "        frontend.Level.to_csv(temporary_file , header=False , index=False)\n",
    "        temporary = pd.read_csv(temporary_file , sep= \"[\" , header=None , engine='python' )\n",
    "        frontend.Level = temporary[0]\n",
    "        frontend.insert(4, \"id\", temporary[1])\n",
    "\n",
    "        print(f\"saving storm-frontend-202003{v}.txt\")\n",
    "        frontend.to_csv(f\"../File/FrontendFile/storm-frontend-202003{v}.txt\" , index=False)\n",
    "\n",
    "    if os.path.exists(temporary_file):\n",
    "        os.remove(temporary_file)\n",
    "    else:\n",
    "        print(\"The file does not exist\")"
   ]
  },
  {
   "cell_type": "code",
   "execution_count": 37,
   "id": "5db31176",
   "metadata": {},
   "outputs": [
    {
     "name": "stdout",
     "output_type": "stream",
     "text": [
      "reading  ../logs_7-13march/storm-atlas-1/storm-frontend-server.log-20200307.gz\n",
      "saving storm-frontend-20200307.txt\n"
     ]
    }
   ],
   "source": [
    "frontend_data([\"07\"])\n",
    "# frontend_data([\"08\",\"09\",\"10\",\"11\",\"12\", \"13\"])"
   ]
  },
  {
   "cell_type": "code",
   "execution_count": 38,
   "id": "e423ccf9",
   "metadata": {},
   "outputs": [
    {
     "data": {
      "text/html": [
       "<div>\n",
       "<style scoped>\n",
       "    .dataframe tbody tr th:only-of-type {\n",
       "        vertical-align: middle;\n",
       "    }\n",
       "\n",
       "    .dataframe tbody tr th {\n",
       "        vertical-align: top;\n",
       "    }\n",
       "\n",
       "    .dataframe thead th {\n",
       "        text-align: right;\n",
       "    }\n",
       "</style>\n",
       "<table border=\"1\" class=\"dataframe\">\n",
       "  <thead>\n",
       "    <tr style=\"text-align: right;\">\n",
       "      <th></th>\n",
       "      <th>date</th>\n",
       "      <th>time</th>\n",
       "      <th>PID</th>\n",
       "      <th>Level</th>\n",
       "      <th>id</th>\n",
       "      <th>message</th>\n",
       "    </tr>\n",
       "  </thead>\n",
       "  <tbody>\n",
       "    <tr>\n",
       "      <th>4487</th>\n",
       "      <td>03/06</td>\n",
       "      <td>03:19:30.240</td>\n",
       "      <td>Thread 38</td>\n",
       "      <td>INFO</td>\n",
       "      <td>44642b49-15ae-4a35-b4cd-78daddc7011f</td>\n",
       "      <td>Request 'BOL' from Client IP='2001:1458:201:e5...</td>\n",
       "    </tr>\n",
       "    <tr>\n",
       "      <th>4488</th>\n",
       "      <td>03/06</td>\n",
       "      <td>03:19:30.240</td>\n",
       "      <td>Thread 38</td>\n",
       "      <td>\"INFO [44642b49-15ae-4a35-b4cd-78daddc7011f</td>\n",
       "      <td>NaN</td>\n",
       "      <td>__process_file_request&lt;&gt; : Protocol check fail...</td>\n",
       "    </tr>\n",
       "    <tr>\n",
       "      <th>4489</th>\n",
       "      <td>03/06</td>\n",
       "      <td>03:19:30.240</td>\n",
       "      <td>Thread 38</td>\n",
       "      <td>\"INFO [44642b49-15ae-4a35-b4cd-78daddc7011f</td>\n",
       "      <td>NaN</td>\n",
       "      <td>__process_file_request&lt;&gt; : Received - 4 - prot...</td>\n",
       "    </tr>\n",
       "    <tr>\n",
       "      <th>4490</th>\n",
       "      <td>03/06</td>\n",
       "      <td>03:19:30.240</td>\n",
       "      <td>Thread 38</td>\n",
       "      <td>\"INFO [44642b49-15ae-4a35-b4cd-78daddc7011f</td>\n",
       "      <td>NaN</td>\n",
       "      <td>__process_file_request&lt;&gt; : Some of the provide...</td>\n",
       "    </tr>\n",
       "    <tr>\n",
       "      <th>4491</th>\n",
       "      <td>03/06</td>\n",
       "      <td>03:19:30.246</td>\n",
       "      <td>Thread 38</td>\n",
       "      <td>INFO</td>\n",
       "      <td>44642b49-15ae-4a35-b4cd-78daddc7011f</td>\n",
       "      <td>Result for request 'BOL' is 'SRM_REQUEST_QUEUE...</td>\n",
       "    </tr>\n",
       "  </tbody>\n",
       "</table>\n",
       "</div>"
      ],
      "text/plain": [
       "       date          time        PID  \\\n",
       "4487  03/06  03:19:30.240  Thread 38   \n",
       "4488  03/06  03:19:30.240  Thread 38   \n",
       "4489  03/06  03:19:30.240  Thread 38   \n",
       "4490  03/06  03:19:30.240  Thread 38   \n",
       "4491  03/06  03:19:30.246  Thread 38   \n",
       "\n",
       "                                            Level  \\\n",
       "4487                                        INFO    \n",
       "4488  \"INFO [44642b49-15ae-4a35-b4cd-78daddc7011f   \n",
       "4489  \"INFO [44642b49-15ae-4a35-b4cd-78daddc7011f   \n",
       "4490  \"INFO [44642b49-15ae-4a35-b4cd-78daddc7011f   \n",
       "4491                                        INFO    \n",
       "\n",
       "                                        id  \\\n",
       "4487  44642b49-15ae-4a35-b4cd-78daddc7011f   \n",
       "4488                                   NaN   \n",
       "4489                                   NaN   \n",
       "4490                                   NaN   \n",
       "4491  44642b49-15ae-4a35-b4cd-78daddc7011f   \n",
       "\n",
       "                                                message  \n",
       "4487  Request 'BOL' from Client IP='2001:1458:201:e5...  \n",
       "4488  __process_file_request<> : Protocol check fail...  \n",
       "4489  __process_file_request<> : Received - 4 - prot...  \n",
       "4490  __process_file_request<> : Some of the provide...  \n",
       "4491  Result for request 'BOL' is 'SRM_REQUEST_QUEUE...  "
      ]
     },
     "execution_count": 38,
     "metadata": {},
     "output_type": "execute_result"
    }
   ],
   "source": [
    "frontend = pd.read_csv(f\"../File/FrontendFile/storm-frontend-20200307.txt\")\n",
    "frontend.loc[4487:4491]"
   ]
  },
  {
   "cell_type": "code",
   "execution_count": 39,
   "id": "6ae37936",
   "metadata": {},
   "outputs": [
    {
     "data": {
      "text/plain": [
       "date       object\n",
       "time       object\n",
       "PID        object\n",
       "Level      object\n",
       "id         object\n",
       "message    object\n",
       "dtype: object"
      ]
     },
     "execution_count": 39,
     "metadata": {},
     "output_type": "execute_result"
    }
   ],
   "source": [
    "frontend.dtypes"
   ]
  },
  {
   "cell_type": "code",
   "execution_count": 26,
   "id": "989a4ca4",
   "metadata": {},
   "outputs": [
    {
     "data": {
      "text/plain": [
       "date                                                   03/06\n",
       "time                                            03:19:30.240\n",
       "PID                                                Thread 38\n",
       "Level            \"INFO [44642b49-15ae-4a35-b4cd-78daddc7011f\n",
       "id                                                       NaN\n",
       "message    __process_file_request<> : Received - 4 - prot...\n",
       "Name: 4489, dtype: object"
      ]
     },
     "execution_count": 26,
     "metadata": {},
     "output_type": "execute_result"
    }
   ],
   "source": [
    "# for i in frontend.index :\n",
    "#     if frontend.time[i] == '03:19:30.240' :\n",
    "#         print(frontend[i])\n"
   ]
  }
 ],
 "metadata": {
  "kernelspec": {
   "display_name": "Python 3 (ipykernel)",
   "language": "python",
   "name": "python3"
  },
  "language_info": {
   "codemirror_mode": {
    "name": "ipython",
    "version": 3
   },
   "file_extension": ".py",
   "mimetype": "text/x-python",
   "name": "python",
   "nbconvert_exporter": "python",
   "pygments_lexer": "ipython3",
   "version": "3.9.7"
  }
 },
 "nbformat": 4,
 "nbformat_minor": 5
}
