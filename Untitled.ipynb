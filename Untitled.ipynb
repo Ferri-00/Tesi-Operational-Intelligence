{
 "cells": [
  {
   "cell_type": "code",
   "execution_count": 4,
   "id": "11a10262",
   "metadata": {},
   "outputs": [
    {
     "data": {
      "text/plain": [
       "['error', 'error']"
      ]
     },
     "execution_count": 4,
     "metadata": {},
     "output_type": "execute_result"
    }
   ],
   "source": [
    "import re\n",
    "\n",
    "resultE = []\n",
    "for msg in ['a b c error', 'abs error error']:\n",
    "    resultE += [re.search('error', msg.lower())]\n",
    "    a = re.findall('error', msg.lower())\n",
    "    \n",
    "resultE\n",
    "a"
   ]
  },
  {
   "cell_type": "code",
   "execution_count": null,
   "id": "8cb88ccd",
   "metadata": {},
   "outputs": [],
   "source": [
    "import numpy as np\n",
    "x = y = z = np.arange(0.0,5.0,1.0)\n",
    "np.savetxt('test.out', x, delimiter=',')   # X is an array"
   ]
  },
  {
   "cell_type": "code",
   "execution_count": null,
   "id": "62086ae8",
   "metadata": {},
   "outputs": [],
   "source": [
    "\n",
    "np.savetxt('test.out', (x,y,z))   # x,y,z equal sized 1D array"
   ]
  },
  {
   "cell_type": "code",
   "execution_count": 17,
   "id": "fe09d99e",
   "metadata": {},
   "outputs": [
    {
     "data": {
      "text/plain": [
       "[1, 4, 10]"
      ]
     },
     "execution_count": 17,
     "metadata": {},
     "output_type": "execute_result"
    }
   ],
   "source": [
    "silhouette = [[0,2,3],[1,2,7]]\n",
    "\n",
    "silhouette = [sum([silhouette[i][j] for i in range(len(silhouette))]) for j in range(len(silhouette[0]))]\n",
    "silhouette"
   ]
  }
 ],
 "metadata": {
  "kernelspec": {
   "display_name": "Python 3 (ipykernel)",
   "language": "python",
   "name": "python3"
  },
  "language_info": {
   "codemirror_mode": {
    "name": "ipython",
    "version": 3
   },
   "file_extension": ".py",
   "mimetype": "text/x-python",
   "name": "python",
   "nbconvert_exporter": "python",
   "pygments_lexer": "ipython3",
   "version": "3.10.4"
  }
 },
 "nbformat": 4,
 "nbformat_minor": 5
}
