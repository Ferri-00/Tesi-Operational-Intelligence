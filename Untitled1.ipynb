{
 "cells": [
  {
   "cell_type": "code",
   "execution_count": 10,
   "id": "087570bd",
   "metadata": {},
   "outputs": [],
   "source": [
    "import pandas as pd"
   ]
  },
  {
   "cell_type": "code",
   "execution_count": 11,
   "id": "01c76cf3",
   "metadata": {},
   "outputs": [],
   "source": [
    "file_name = \"./FrontendFileParsing/storm-frontend-20200307.txt\"\n",
    "\n",
    "raw_data = pd.read_csv(file_name, nrows=1e2)"
   ]
  },
  {
   "cell_type": "raw",
   "id": "23569e23",
   "metadata": {},
   "source": [
    "file_name2 = \"./FrontendFileParsing/storm-frontend-20200307.json\"\n",
    "raw_data.to_json(file_name2)\n",
    "\n",
    "import json\n",
    "with open(file_name2, 'r') as f:\n",
    "    raw_data = json.load(f)"
   ]
  },
  {
   "cell_type": "code",
   "execution_count": 22,
   "id": "dc7cc5a7",
   "metadata": {},
   "outputs": [],
   "source": [
    "errors = pd.DataFrame()\n",
    "for i in raw_data.index:\n",
    "    lista = raw_data.loc[i]\n",
    "    idx = lista.pop('id')\n",
    "    temp = pd.DataFrame(dict(lista), index=[idx], copy=True)\n",
    "    errors = errors.append(temp)"
   ]
  },
  {
   "cell_type": "code",
   "execution_count": 24,
   "id": "699421df",
   "metadata": {},
   "outputs": [
    {
     "name": "stdout",
     "output_type": "stream",
     "text": [
      "Total number of errors: 100\n"
     ]
    }
   ],
   "source": [
    "print(\"Total number of errors:\", errors.shape[0])"
   ]
  },
  {
   "cell_type": "code",
   "execution_count": 29,
   "id": "253ba07b",
   "metadata": {},
   "outputs": [
    {
     "data": {
      "text/plain": [
       "18471543-85a3-4707-af7b-ade7801ab25f    process_request : Connection from 2001:6b0:17:...\n",
       "600c46e5-bea1-4d66-ba00-4819783d705d    Request 'PTP status' from Client IP='::ffff:13...\n",
       "600c46e5-bea1-4d66-ba00-4819783d705d    Result for request 'PTP status' is 'SRM_REQUES...\n",
       "ece0cd19-6f59-4a2d-b2bc-8cce75dc3007    Request 'PTG status' from Client IP='2001:1458...\n",
       "ece0cd19-6f59-4a2d-b2bc-8cce75dc3007     Result for request 'PTG status' is 'SRM_SUCCESS'\n",
       "                                                              ...                        \n",
       "80cd5b0f-c306-4016-b598-9f895282fbde    Result for request 'BOL status' is 'SRM_REQUES...\n",
       "5ebb4cc9-2765-4099-b005-b1fee7616164    Request 'BOL status' from Client IP='2001:6b0:...\n",
       "5ebb4cc9-2765-4099-b005-b1fee7616164    Result for request 'BOL status' is 'SRM_REQUES...\n",
       "ece0cd19-6f59-4a2d-b2bc-8cce75dc3007    ns1__srmReleaseFiles : Request: Release files....\n",
       "ece0cd19-6f59-4a2d-b2bc-8cce75dc3007    Result for request 'Release files' is 'SRM_SUC...\n",
       "Name: Content, Length: 100, dtype: object"
      ]
     },
     "execution_count": 29,
     "metadata": {},
     "output_type": "execute_result"
    }
   ],
   "source": [
    "errors['Content']"
   ]
  },
  {
   "cell_type": "code",
   "execution_count": 26,
   "id": "b54b077a",
   "metadata": {},
   "outputs": [],
   "source": [
    "# Reduce to lowercase and split in tokens\n",
    "tokens_per_message = [x.lower().split() for x in errors.Content]"
   ]
  },
  {
   "cell_type": "code",
   "execution_count": 27,
   "id": "d0f74551",
   "metadata": {},
   "outputs": [
    {
     "data": {
      "text/plain": [
       "{'#',\n",
       " \"'08869d38-da7d-41dc-8da7-ccc27d3866fc'\",\n",
       " \"'249a7a15-1df2-4e25-b417-3ba21f86e2df'\",\n",
       " \"'2cf7ea1c-ffd4-472c-a072-7e6dc24760a6'\",\n",
       " \"'4dccfc51-a950-4c23-88c5-38572e6e89d4'\",\n",
       " \"'703671ec-283e-4cba-9ed3-76249556aa7d'\",\n",
       " \"'8468aa89-ed72-41a7-a458-75e878332d14'\",\n",
       " \"'90eb22ea-8696-4658-a5ea-16e2a4ce067d'\",\n",
       " \"'a2192782-4bcf-4207-859c-88a29b30f03f'\",\n",
       " \"'ad2c816f-b903-427f-8be9-33274d6e7b24'\",\n",
       " \"'b4a77b40-7d2b-45c8-acc7-1f60ff4966e7'\",\n",
       " \"'b552d088-8af1-4edb-9b51-20cc963bf59e'\",\n",
       " \"'b9131460-2893-4891-8a0d-797be23db172'\",\n",
       " \"'bol\",\n",
       " \"'ls'\",\n",
       " \"'mv'\",\n",
       " \"'ptg\",\n",
       " \"'ptp\",\n",
       " \"'put\",\n",
       " \"'release\",\n",
       " \"'srm_request_inprogress'\",\n",
       " \"'srm_success'\",\n",
       " '/dc=ch/dc=cern/ou=organic',\n",
       " '08869d38-da7d-41dc-8da7-ccc27d3866fc',\n",
       " \"1'\",\n",
       " '1b2f4d23-3911-4484-b44c-0e4edae79b36',\n",
       " '2001:1458:201:e4::100:574.',\n",
       " '2001:1458:201:e5::100:57',\n",
       " '2001:1458:201:e5::100:57.',\n",
       " '2001:1458:d00:9::100:130',\n",
       " '2001:1458:d00:9::100:130.',\n",
       " '2001:1458:d00:a::100:304',\n",
       " '2001:1458:d00:a::100:304.',\n",
       " '2001:6b0:17:180::2:2',\n",
       " '7d868c24-f4fe-4bc3-8071-cd4c5708883a',\n",
       " '90eb22ea-8696-4658-a5ea-16e2a4ce067d',\n",
       " ':',\n",
       " '::ffff:131.154.208.111',\n",
       " '::ffff:131.154.208.111.',\n",
       " 'act',\n",
       " 'atlas',\n",
       " 'b9131460-2893-4891-8a0d-797be23db172',\n",
       " 'client',\n",
       " 'connection',\n",
       " 'data',\n",
       " 'dn:',\n",
       " \"dn='/dc=ch/dc=cern/ou=organic\",\n",
       " \"done'\",\n",
       " 'done.',\n",
       " \"files'\",\n",
       " 'files.',\n",
       " 'for',\n",
       " 'from',\n",
       " 'from_surl:',\n",
       " 'ip:',\n",
       " \"ip='2001:1458:201:e4::100:574'\",\n",
       " \"ip='2001:1458:d00:a::100:304'\",\n",
       " \"ip='2001:6b0:17:180::2:2'\",\n",
       " \"ip='::ffff:131.154.208.111'\",\n",
       " 'is',\n",
       " 'ls.',\n",
       " 'management',\n",
       " \"management'\",\n",
       " 'management.',\n",
       " 'mv.',\n",
       " 'ns1__srmls',\n",
       " 'ns1__srmmv',\n",
       " 'ns1__srmputdone',\n",
       " 'ns1__srmreleasefiles',\n",
       " 'pilot1',\n",
       " \"pilot1'\",\n",
       " 'pilot1.',\n",
       " 'process_request',\n",
       " 'put',\n",
       " 'release',\n",
       " 'request',\n",
       " 'request:',\n",
       " 'requested',\n",
       " 'result',\n",
       " 'srm://storm-fe.cr.cnaf.infn.it/atlas/atlasdatadisk/rucio/mc15_13tev/ae/b0/evnt.20604228._031137.pool.root.1.',\n",
       " 'srm://storm-fe.cr.cnaf.infn.it/atlas/atlasdatadisk/rucio/mc15_13tev/fd/d7/evnt.20604228._031573.pool.root.1.',\n",
       " 'srm://storm-fe.cr.cnaf.infn.it/atlas/atlasdatadisk/rucio/tests/c1/d2/step14.77370.9173.recon.esd.93747.49296.',\n",
       " 'srm://storm-fe.cr.cnaf.infn.it/atlas/atlasscratchdisk/rucio/user/ruyuan/b7/68/user.ruyuan.20728959._000069.output.root',\n",
       " 'srm://storm-fe.cr.cnaf.infn.it/atlas/atlasscratchdisk/rucio/user/ruyuan/b7/68/user.ruyuan.20728959._000069.output.root.rucio.upload',\n",
       " 'srm://storm-fe.cr.cnaf.infn.it/atlas/atlasscratchdisk/rucio/user/ruyuan/b7/68/user.ruyuan.20728959._000069.output.root.rucio.upload.',\n",
       " 'srm://storm-fe.cr.cnaf.infn.it/atlas/atlasscratchdisk/rucio/user/yilin/b5/3b/user.yilin.20730322._000001.stop0l.root.',\n",
       " \"status'\",\n",
       " 'surl(s):',\n",
       " 'to_surl:',\n",
       " 'token',\n",
       " 'token:',\n",
       " 'units/ou=users/cn=atlact1/cn=555105/cn=robot:',\n",
       " 'units/ou=users/cn=atlpilo1/cn=614260/cn=robot:',\n",
       " 'units/ou=users/cn=ddmadmin/cn=531497/cn=robot:'}"
      ]
     },
     "execution_count": 27,
     "metadata": {},
     "output_type": "execute_result"
    }
   ],
   "source": [
    "# Retrieve the set of all tokens used in the error messages\n",
    "word_set = set()\n",
    "for mess in tokens_per_message:\n",
    "    word_set = word_set.union(set(mess))\n",
    "    \n",
    "word_set"
   ]
  }
 ],
 "metadata": {
  "kernelspec": {
   "display_name": "Python 3 (ipykernel)",
   "language": "python",
   "name": "python3"
  },
  "language_info": {
   "codemirror_mode": {
    "name": "ipython",
    "version": 3
   },
   "file_extension": ".py",
   "mimetype": "text/x-python",
   "name": "python",
   "nbconvert_exporter": "python",
   "pygments_lexer": "ipython3",
   "version": "3.9.7"
  }
 },
 "nbformat": 4,
 "nbformat_minor": 5
}
